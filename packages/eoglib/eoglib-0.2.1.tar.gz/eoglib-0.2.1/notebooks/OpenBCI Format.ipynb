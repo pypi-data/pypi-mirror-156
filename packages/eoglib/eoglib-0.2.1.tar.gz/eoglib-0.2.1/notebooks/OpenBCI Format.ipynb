{
 "cells": [
  {
   "cell_type": "code",
   "execution_count": 1,
   "metadata": {},
   "outputs": [
    {
     "name": "stdout",
     "output_type": "stream",
     "text": [
      "Populating the interactive namespace from numpy and matplotlib\n"
     ]
    }
   ],
   "source": [
    "%pylab qt"
   ]
  },
  {
   "cell_type": "markdown",
   "metadata": {},
   "source": [
    "# OpenBCI Format"
   ]
  },
  {
   "cell_type": "code",
   "execution_count": 5,
   "metadata": {},
   "outputs": [
    {
     "name": "stdout",
     "output_type": "stream",
     "text": [
      "%STOP AT\n",
      "\n",
      "%START AT\n",
      "\n",
      "%STOP AT\n",
      "\n",
      "%START AT\n",
      "\n",
      "%STOP AT\n",
      "\n"
     ]
    }
   ],
   "source": [
    "from numpy import ndarray, array, int32\n",
    "\n",
    "with open('data/OBCI_F3.TXT', 'rt') as f:\n",
    "    for line in f:\n",
    "        if line.startswith('%'):\n",
    "            print(line)\n"
   ]
  },
  {
   "cell_type": "code",
   "execution_count": null,
   "metadata": {},
   "outputs": [],
   "source": []
  }
 ],
 "metadata": {
  "kernelspec": {
   "display_name": "Python 3",
   "language": "python",
   "name": "python3"
  },
  "language_info": {
   "codemirror_mode": {
    "name": "ipython",
    "version": 3
   },
   "file_extension": ".py",
   "mimetype": "text/x-python",
   "name": "python",
   "nbconvert_exporter": "python",
   "pygments_lexer": "ipython3",
   "version": "3.9.4"
  }
 },
 "nbformat": 4,
 "nbformat_minor": 4
}
