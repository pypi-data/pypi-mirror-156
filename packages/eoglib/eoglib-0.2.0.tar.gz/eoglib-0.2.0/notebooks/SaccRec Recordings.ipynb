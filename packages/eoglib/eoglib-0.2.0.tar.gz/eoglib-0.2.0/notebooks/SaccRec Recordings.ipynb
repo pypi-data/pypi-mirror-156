{
 "cells": [
  {
   "cell_type": "code",
   "execution_count": 3,
   "metadata": {},
   "outputs": [
    {
     "name": "stdout",
     "output_type": "stream",
     "text": [
      "Populating the interactive namespace from numpy and matplotlib\n"
     ]
    }
   ],
   "source": [
    "%pylab qt"
   ]
  },
  {
   "cell_type": "markdown",
   "metadata": {},
   "source": [
    "# Records\n",
    "\n",
    "- 00001A = Fofi (No Sirve)\n",
    "- 00001C = Rober\n",
    "- 00001D = Rober (SRB2 Disconnected) in Bed\n",
    "- 00001E = Rober (SRB2 Connected) in Bed"
   ]
  },
  {
   "cell_type": "markdown",
   "metadata": {},
   "source": [
    "# SaccRec Recordings"
   ]
  },
  {
   "cell_type": "code",
   "execution_count": 1,
   "metadata": {},
   "outputs": [
    {
     "data": {
      "text/plain": [
       "3"
      ]
     },
     "execution_count": 1,
     "metadata": {},
     "output_type": "execute_result"
    }
   ],
   "source": [
    "from eoglib.io import load_eog\n",
    "from eoglib.models import Channel\n",
    "\n",
    "study = load_eog('/home/idertator/Recordings/Prueba01.eog')  \n",
    "len(study)"
   ]
  },
  {
   "cell_type": "markdown",
   "metadata": {},
   "source": [
    "## Iterating through tests"
   ]
  },
  {
   "cell_type": "code",
   "execution_count": 8,
   "metadata": {},
   "outputs": [
    {
     "data": {
      "text/plain": [
       "[<matplotlib.lines.Line2D at 0x7f68d0536910>]"
      ]
     },
     "execution_count": 8,
     "metadata": {},
     "output_type": "execute_result"
    }
   ],
   "source": [
    "idx = 1\n",
    "x = study[idx][Channel.Time]\n",
    "h_channel = study[idx][Channel.Horizontal]\n",
    "#h_channel = medfilt(h_channel, 21)\n",
    "v_channel = study[idx][Channel.Vertical]\n",
    "stimulus = study[idx][Channel.Stimulus]\n",
    "plot(x, h_channel)\n",
    "plot(x, stimulus)"
   ]
  },
  {
   "cell_type": "code",
   "execution_count": 7,
   "metadata": {},
   "outputs": [
    {
     "data": {
      "text/plain": [
       "[<matplotlib.lines.Line2D at 0x7f68dc059cd0>]"
      ]
     },
     "execution_count": 7,
     "metadata": {},
     "output_type": "execute_result"
    }
   ],
   "source": [
    "from scipy import fftpack\n",
    "\n",
    "T = 1/1000.0\n",
    "N = len(h_channel)\n",
    "xf = linspace(0.0, 1.0//(2.0*T), N//2)\n",
    "yf = fftpack.fft(h_channel)\n",
    "plot(xf, 2.0/N * np.abs(yf[:N//2]))"
   ]
  },
  {
   "cell_type": "markdown",
   "metadata": {},
   "source": [
    "# Plotting First Horizontal Calibration Test"
   ]
  },
  {
   "cell_type": "code",
   "execution_count": 34,
   "metadata": {},
   "outputs": [
    {
     "data": {
      "text/plain": [
       "[<matplotlib.lines.Line2D at 0x7f0089f1e6d0>]"
      ]
     },
     "execution_count": 34,
     "metadata": {},
     "output_type": "execute_result"
    }
   ],
   "source": [
    "from eoglib.models import Channel\n",
    "\n",
    "test = study[1]\n",
    "stimulus = test.channels[Channel.Stimulus]\n",
    "scaled_stimulus = stimulus * 10000\n",
    "horizontal = test.channels[Channel.Horizontal]\n",
    "vertical = test.channels[Channel.Vertical]\n",
    "# plot(scaled_stimulus)\n",
    "plot(vertical)"
   ]
  },
  {
   "cell_type": "markdown",
   "metadata": {},
   "source": [
    "## Fix drift"
   ]
  },
  {
   "cell_type": "code",
   "execution_count": 31,
   "metadata": {},
   "outputs": [
    {
     "data": {
      "text/plain": [
       "[<matplotlib.lines.Line2D at 0x7f008a3714f0>]"
      ]
     },
     "execution_count": 31,
     "metadata": {},
     "output_type": "execute_result"
    }
   ],
   "source": [
    "from math import log10, floor\n",
    "from numpy.polynomial import Polynomial\n",
    "\n",
    "x = arange(len(horizontal))\n",
    "pfit, stats = Polynomial.fit(x, horizontal, 2, full=True)\n",
    "fixed_horizontal = horizontal - pfit(x)\n",
    "\n",
    "stimulus_scale = -(10 ** floor(log10(max(abs(fixed_horizontal))))) # Change the minus when corrected\n",
    "scaled_stimulus = stimulus * stimulus_scale\n",
    "\n",
    "plot(scaled_stimulus)\n",
    "plot(fixed_horizontal)"
   ]
  },
  {
   "cell_type": "markdown",
   "metadata": {},
   "source": [
    "## Clean noise"
   ]
  },
  {
   "cell_type": "code",
   "execution_count": 29,
   "metadata": {},
   "outputs": [
    {
     "data": {
      "text/plain": [
       "[<matplotlib.lines.Line2D at 0x7f008ab55550>]"
      ]
     },
     "execution_count": 29,
     "metadata": {},
     "output_type": "execute_result"
    }
   ],
   "source": [
    "from scipy.signal import medfilt\n",
    "\n",
    "plot(fixed_horizontal)\n",
    "filtered_horizontal = medfilt(fixed_horizontal, 15)\n",
    "plot(filtered_horizontal)"
   ]
  },
  {
   "cell_type": "markdown",
   "metadata": {},
   "source": [
    "## Final Plot"
   ]
  },
  {
   "cell_type": "code",
   "execution_count": 32,
   "metadata": {},
   "outputs": [
    {
     "data": {
      "text/plain": [
       "[<matplotlib.lines.Line2D at 0x7f0089f2beb0>]"
      ]
     },
     "execution_count": 32,
     "metadata": {},
     "output_type": "execute_result"
    }
   ],
   "source": [
    "plot(scaled_stimulus)\n",
    "plot(filtered_horizontal)"
   ]
  }
 ],
 "metadata": {
  "kernelspec": {
   "display_name": "Python 3",
   "language": "python",
   "name": "python3"
  },
  "language_info": {
   "codemirror_mode": {
    "name": "ipython",
    "version": 3
   },
   "file_extension": ".py",
   "mimetype": "text/x-python",
   "name": "python",
   "nbconvert_exporter": "python",
   "pygments_lexer": "ipython3",
   "version": "3.9.5"
  }
 },
 "nbformat": 4,
 "nbformat_minor": 4
}
