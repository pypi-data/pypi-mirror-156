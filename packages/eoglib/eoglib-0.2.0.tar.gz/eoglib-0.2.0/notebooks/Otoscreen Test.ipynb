{
 "cells": [
  {
   "cell_type": "markdown",
   "id": "dd33687f-cc73-4563-921a-ad1b78ffad2c",
   "metadata": {},
   "source": [
    "# Otoscreen Load Test"
   ]
  },
  {
   "cell_type": "code",
   "execution_count": 1,
   "id": "e91199d4-c999-4ef0-9565-dc5f663348eb",
   "metadata": {},
   "outputs": [
    {
     "name": "stdout",
     "output_type": "stream",
     "text": [
      "Populating the interactive namespace from numpy and matplotlib\n"
     ]
    }
   ],
   "source": [
    "%pylab qt"
   ]
  },
  {
   "cell_type": "code",
   "execution_count": 1,
   "id": "4faa5173-a43b-4c36-b22b-5d9f9484a3f0",
   "metadata": {},
   "outputs": [
    {
     "name": "stdout",
     "output_type": "stream",
     "text": [
      "{<Channel.Horizontal: 'horizontal'>: array([-356.8866 , -358.093  , -357.83072, ...,  317.44232,  316.97028,\n",
      "        313.6133 ], dtype=float32), <Channel.Stimulus: 'stimulus'>: array([  0.,   0.,   0., ..., -15., -15., -15.], dtype=float32)}\n",
      "{<Channel.Vertical: 'vertical'>: array([-647.8929 , -637.87445, -630.059  , ..., -337.689  , -335.3286 ,\n",
      "       -335.17126], dtype=float32), <Channel.Stimulus: 'stimulus'>: array([ 0. ,  0. ,  0. , ..., -9.9, -9.9, -9.9], dtype=float32)}\n",
      "{<Channel.Horizontal: 'horizontal'>: array([], dtype=float32), <Channel.Vertical: 'vertical'>: array([], dtype=float32), <Channel.Stimulus: 'stimulus'>: array([ 0. ,  0. ,  0. , ..., -4.9, -4.9, -4.9], dtype=float32)}\n",
      "{<Channel.Horizontal: 'horizontal'>: array([  33.14996 ,   39.863876,   36.664276, ..., -310.6235  ,\n",
      "       -300.86734 , -312.24954 ], dtype=float32), <Channel.Vertical: 'vertical'>: array([-108.83887 , -114.97581 , -108.83887 , ..., -118.0705  ,\n",
      "       -112.40564 , -106.635864], dtype=float32), <Channel.Stimulus: 'stimulus'>: array([  0.,   0.,   0., ..., -10., -10., -10.], dtype=float32)}\n",
      "{<Channel.Horizontal: 'horizontal'>: array([ 248.99187,  245.00548,  248.15262, ..., -553.6358 , -550.17395,\n",
      "       -558.98596], dtype=float32), <Channel.Vertical: 'vertical'>: array([-155.73137 , -150.7484  , -155.31175 , ...,  -50.931347,\n",
      "        -51.718132,  -47.679295], dtype=float32), <Channel.Stimulus: 'stimulus'>: array([  0.,   0.,   0., ..., -15., -15., -15.], dtype=float32)}\n",
      "{<Channel.Horizontal: 'horizontal'>: array([ 77.00022,  94.30954,  91.05749, ..., 669.0837 , 662.9992 ,\n",
      "       663.89087], dtype=float32), <Channel.Vertical: 'vertical'>: array([ -1.311312,  -9.546349,  -9.231634, ..., -14.581786, -16.522528,\n",
      "       -17.728933], dtype=float32), <Channel.Stimulus: 'stimulus'>: array([ 0.,  0.,  0., ..., 30., 30., 30.], dtype=float32)}\n",
      "{<Channel.Horizontal: 'horizontal'>: array([  84.39602 ,   82.45528 ,   84.553375, ..., -292.1078  ,\n",
      "       -286.4954  , -276.1098  ], dtype=float32), <Channel.Vertical: 'vertical'>: array([-29.897907, -26.331139, -21.295702, ..., -41.64726 , -32.10091 ,\n",
      "       -33.622032], dtype=float32), <Channel.Stimulus: 'stimulus'>: array([0., 0., 0., ..., 0., 0., 0.], dtype=float32)}\n",
      "{<Channel.Horizontal: 'horizontal'>: array([-33.045055, -30.212622, -26.908115, ..., 463.62735 , 462.99792 ,\n",
      "       459.69342 ], dtype=float32), <Channel.Stimulus: 'stimulus'>: array([ 0.,  0.,  0., ..., 15., 15., 15.], dtype=float32)}\n"
     ]
    }
   ],
   "source": [
    "from eoglib.io import load_otoscreen\n",
    "\n",
    "study = load_otoscreen('/home/idertator/Recordings/otoscreen/C001.csv')"
   ]
  },
  {
   "cell_type": "code",
   "execution_count": 2,
   "id": "9b49400a-763d-472d-9692-33fcddec74b4",
   "metadata": {},
   "outputs": [
    {
     "data": {
      "text/plain": [
       "<eoglib.models.study.Study at 0x7f4fd0932190>"
      ]
     },
     "execution_count": 2,
     "metadata": {},
     "output_type": "execute_result"
    }
   ],
   "source": [
    "study"
   ]
  },
  {
   "cell_type": "code",
   "execution_count": 2,
   "id": "61affbe2-c480-4098-9f3a-d878b9f42e60",
   "metadata": {},
   "outputs": [
    {
     "data": {
      "text/plain": [
       "8"
      ]
     },
     "execution_count": 2,
     "metadata": {},
     "output_type": "execute_result"
    }
   ],
   "source": [
    "len(study)"
   ]
  },
  {
   "cell_type": "code",
   "execution_count": 2,
   "id": "db8a68fc-8166-40ed-881b-37c68ccfdf68",
   "metadata": {},
   "outputs": [
    {
     "name": "stdout",
     "output_type": "stream",
     "text": [
      "{}\n",
      "{}\n",
      "{}\n",
      "{}\n",
      "{}\n",
      "{}\n",
      "{}\n",
      "{}\n"
     ]
    }
   ],
   "source": [
    "for test in study:\n",
    "    print(test.channels)"
   ]
  },
  {
   "cell_type": "code",
   "execution_count": null,
   "id": "0d2e1adb-75f2-4efb-a6bf-ea4238130683",
   "metadata": {},
   "outputs": [],
   "source": []
  }
 ],
 "metadata": {
  "kernelspec": {
   "display_name": "Python 3",
   "language": "python",
   "name": "python3"
  },
  "language_info": {
   "codemirror_mode": {
    "name": "ipython",
    "version": 3
   },
   "file_extension": ".py",
   "mimetype": "text/x-python",
   "name": "python",
   "nbconvert_exporter": "python",
   "pygments_lexer": "ipython3",
   "version": "3.9.5"
  }
 },
 "nbformat": 4,
 "nbformat_minor": 5
}
