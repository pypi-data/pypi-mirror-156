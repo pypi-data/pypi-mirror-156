{
 "cells": [
  {
   "cell_type": "code",
   "execution_count": null,
   "metadata": {},
   "outputs": [],
   "source": [
    "import numpy as np\n",
    "import matplotlib.pyplot as plt\n",
    "from uncertainties import unumpy\n",
    "\n",
    "from DataChef import ingredient_functions as ing_funcs\n",
    "from DataChef import mix_functions as mix_funcs\n",
    "from DataChef.recipe import Recipe\n",
    "from DataChef.ingredient import Ingredient"
   ]
  },
  {
   "cell_type": "markdown",
   "metadata": {},
   "source": [
    "## Welcome to the DataChef tutorial! 📊👨‍🍳\n",
    "### Let's cook up some fake data 😋"
   ]
  },
  {
   "cell_type": "markdown",
   "metadata": {},
   "source": [
    "Let's cook up a noisy sine wave! We'll start by collecting our ingredients:\n",
    "\n",
    "We'll ask for a sine wave with no phase shift, amplitude 4.5, and period 3pi"
   ]
  },
  {
   "cell_type": "code",
   "execution_count": null,
   "metadata": {},
   "outputs": [],
   "source": [
    "ing_sine = Ingredient(ing_funcs.sinusoid, \"sinusoid\", phase=0, amplitude=4.5, period=3*np.pi)"
   ]
  },
  {
   "cell_type": "markdown",
   "metadata": {},
   "source": [
    "The noise we'll add will be basic gaussian noise with mean 1 and spread 1"
   ]
  },
  {
   "cell_type": "code",
   "execution_count": null,
   "metadata": {},
   "outputs": [],
   "source": [
    "ing_gauss = Ingredient(ing_funcs.gaussian, \"gaussian noise\", mean=1, stdev=1)"
   ]
  },
  {
   "cell_type": "markdown",
   "metadata": {},
   "source": [
    "Now we'll combine our ingredients into a recipe..."
   ]
  },
  {
   "cell_type": "code",
   "execution_count": null,
   "metadata": {},
   "outputs": [],
   "source": [
    "our_first_recipe = Recipe()\n",
    "our_first_recipe.add_ingredient(ing_sine, mix_funcs.add)\n",
    "our_first_recipe.add_ingredient(ing_gauss, mix_funcs.add)"
   ]
  },
  {
   "cell_type": "markdown",
   "metadata": {},
   "source": [
    "And finally, we'll cook them all together, plot the results, and write them to disk!"
   ]
  },
  {
   "cell_type": "code",
   "execution_count": null,
   "metadata": {},
   "outputs": [],
   "source": [
    "x = np.linspace(-25,25,200)\n",
    "our_first_recipe.plot(x, marker='')\n",
    "plt.show()"
   ]
  },
  {
   "cell_type": "markdown",
   "metadata": {},
   "source": [
    "Alright! That was cool, but let's start again with some different ingredients and try something more ambitious\n",
    "\n",
    "Here's a parabola, a cubic function, and some uniform white noise. You can see all their parameters in their declarations"
   ]
  },
  {
   "cell_type": "code",
   "execution_count": null,
   "metadata": {},
   "outputs": [],
   "source": [
    "ing_parabola = Ingredient(ing_funcs.parabola, \"parabola\", a=-2, b=0, c=3)\n",
    "ing_cubic = Ingredient(ing_funcs.cubic, \"cubic\", a=2, b=0, c=0, d=-5)\n",
    "ing_uniform = Ingredient(ing_funcs.uniform, \"white noise\", shift=2, scale=2)"
   ]
  },
  {
   "cell_type": "markdown",
   "metadata": {},
   "source": [
    "Now add them to a recipe..."
   ]
  },
  {
   "cell_type": "code",
   "execution_count": null,
   "metadata": {},
   "outputs": [],
   "source": [
    "rec1 = Recipe()\n",
    "rec1.add_ingredient(ing_parabola, mix_funcs.add)"
   ]
  },
  {
   "cell_type": "markdown",
   "metadata": {},
   "source": [
    "We can combine ingredients in more ways than just adding! We'll multiply our white noise on to the parabola then plot it to see our progress"
   ]
  },
  {
   "cell_type": "code",
   "execution_count": null,
   "metadata": {},
   "outputs": [],
   "source": [
    "rec1.add_ingredient(ing_uniform, mix_funcs.multiply)\n",
    "rec1.plot(x, marker='')\n",
    "plt.show()"
   ]
  },
  {
   "cell_type": "markdown",
   "metadata": {},
   "source": [
    "Pretty cool, but we can do better! Let's convolve in the cubic function 🤯"
   ]
  },
  {
   "cell_type": "code",
   "execution_count": null,
   "metadata": {},
   "outputs": [],
   "source": [
    "rec1.add_ingredient(ing_cubic, mix_funcs.convolve)\n",
    "rec1.plot(x, marker='')\n",
    "plt.show()"
   ]
  },
  {
   "cell_type": "markdown",
   "metadata": {},
   "source": [
    "I don't know what phenomena this can model but it looks pretty cool!\n",
    "\n",
    "Let's try to actually model something scientific...\n",
    "\n",
    "We've built in support for creating analytical models of gravitational wave signals\n",
    "\n",
    "This will be simulated LISA signal from a BH-BH binary inspiral where each has M=10 Msun and a=0"
   ]
  },
  {
   "cell_type": "code",
   "execution_count": null,
   "metadata": {},
   "outputs": [],
   "source": [
    "gw = Ingredient(ing_funcs.gw_signal, \"BH-BH binary\")"
   ]
  },
  {
   "cell_type": "markdown",
   "metadata": {},
   "source": [
    "Let's add it to a recipe and cook up some black holes!"
   ]
  },
  {
   "cell_type": "code",
   "execution_count": null,
   "metadata": {},
   "outputs": [],
   "source": [
    "t = np.linspace(0,1024,1024)\n",
    "rec2 = Recipe()\n",
    "rec2.add_ingredient(gw, mix_funcs.add)\n",
    "rec2.plot(t, marker='')"
   ]
  },
  {
   "cell_type": "markdown",
   "metadata": {},
   "source": [
    "All real measurements are subject to noise, so we can't forget to consider that\n",
    "\n",
    "This is characteristic of a random 5% measurement error "
   ]
  },
  {
   "cell_type": "code",
   "execution_count": null,
   "metadata": {},
   "outputs": [],
   "source": [
    "ing_uniform2 = Ingredient(ing_funcs.uniform, \"white noise\", shift=0, scale=0.05)\n",
    "rec2.add_ingredient(ing_uniform2, mix_funcs.multiply)\n",
    "rec2.plot(t, marker='')"
   ]
  }
 ],
 "metadata": {
  "kernelspec": {
   "display_name": "Python 3.10.4 ('codeastro')",
   "language": "python",
   "name": "python3"
  },
  "language_info": {
   "codemirror_mode": {
    "name": "ipython",
    "version": 3
   },
   "file_extension": ".py",
   "mimetype": "text/x-python",
   "name": "python",
   "nbconvert_exporter": "python",
   "pygments_lexer": "ipython3",
   "version": "3.10.4"
  },
  "orig_nbformat": 4,
  "vscode": {
   "interpreter": {
    "hash": "24622e271ff40843ce961866e7210720ca1d68772f6b01013377585b2a2970c6"
   }
  }
 },
 "nbformat": 4,
 "nbformat_minor": 2
}
