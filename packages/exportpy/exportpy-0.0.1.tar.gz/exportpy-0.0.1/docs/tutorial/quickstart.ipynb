{
 "cells": [
  {
   "cell_type": "markdown",
   "id": "90e80d27-035f-48e7-ac81-d3f31b309664",
   "metadata": {},
   "source": [
    "# Quickstart"
   ]
  },
  {
   "cell_type": "code",
   "execution_count": null,
   "id": "b94c994d-bfc7-4288-9171-0f5c30028012",
   "metadata": {},
   "outputs": [],
   "source": [
    "from lamindb.setup import Settings\n",
    "from cloudpathlib import CloudPath\n",
    "import importlib\n",
    "from exportpy import dataclass_to_py\n",
    "import pytest"
   ]
  },
  {
   "cell_type": "code",
   "execution_count": null,
   "id": "8af01912-e823-41e0-840d-4d0314eed215",
   "metadata": {},
   "outputs": [],
   "source": [
    "settings = Settings()"
   ]
  },
  {
   "cell_type": "code",
   "execution_count": null,
   "id": "06225fd5-404a-49e6-9942-5ad0570afde0",
   "metadata": {},
   "outputs": [],
   "source": [
    "settings.storage_root = CloudPath(\"s3://hello\")"
   ]
  },
  {
   "cell_type": "code",
   "execution_count": null,
   "id": "0b8fe09c-059e-474e-bfa1-a6fb8617646e",
   "metadata": {},
   "outputs": [],
   "source": [
    "with open(\"test.py\", \"w\") as f:\n",
    "    f.write(dataclass_to_py(settings))"
   ]
  },
  {
   "cell_type": "code",
   "execution_count": null,
   "id": "88c94b57-f13f-4462-8e2a-72cae6105f9e",
   "metadata": {},
   "outputs": [],
   "source": [
    "import test"
   ]
  },
  {
   "cell_type": "code",
   "execution_count": null,
   "id": "963b2a93-5e11-461d-82cf-2d5274ac1664",
   "metadata": {},
   "outputs": [],
   "source": [
    "test.Settings()"
   ]
  },
  {
   "cell_type": "code",
   "execution_count": null,
   "id": "611e314e-0237-4f29-922d-e10b126aa48c",
   "metadata": {},
   "outputs": [],
   "source": [
    "settings.cache_root = \"a\""
   ]
  },
  {
   "cell_type": "code",
   "execution_count": null,
   "id": "6d920b80-0f6a-405b-bd5f-29cede711362",
   "metadata": {},
   "outputs": [],
   "source": [
    "with open(\"test.py\", \"w\") as f:\n",
    "    f.write(dataclass_to_py(settings))"
   ]
  },
  {
   "cell_type": "code",
   "execution_count": null,
   "id": "4ee651ad-4cec-4654-a76a-716e83ae219e",
   "metadata": {},
   "outputs": [],
   "source": [
    "importlib.reload(test);"
   ]
  },
  {
   "cell_type": "code",
   "execution_count": null,
   "id": "cdbb333a-d0a8-4928-9c26-d026b1ee222f",
   "metadata": {},
   "outputs": [],
   "source": [
    "test.Settings()"
   ]
  },
  {
   "cell_type": "markdown",
   "id": "773d0c9f-901f-4b7f-b898-b4e78fd20317",
   "metadata": {},
   "source": [
    "Test a non-dataclass:"
   ]
  },
  {
   "cell_type": "code",
   "execution_count": null,
   "id": "1a040bcb-5433-41f6-9000-ed98c894be7a",
   "metadata": {},
   "outputs": [],
   "source": [
    "with pytest.raises(TypeError):\n",
    "    dataclass_to_py(\"Hello\")"
   ]
  }
 ],
 "metadata": {
  "kernelspec": {
   "display_name": "Python 3 (ipykernel)",
   "language": "python",
   "name": "python3"
  },
  "language_info": {
   "codemirror_mode": {
    "name": "ipython",
    "version": 3
   },
   "file_extension": ".py",
   "mimetype": "text/x-python",
   "name": "python",
   "nbconvert_exporter": "python",
   "pygments_lexer": "ipython3",
   "version": "3.9.12"
  }
 },
 "nbformat": 4,
 "nbformat_minor": 5
}
