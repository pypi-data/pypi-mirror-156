{
 "cells": [
  {
   "cell_type": "markdown",
   "id": "00b2fb4c-fed6-4c8a-9bdb-e8f895014317",
   "metadata": {},
   "source": [
    "# Welcome to Classiq's SDK\n",
    "\n",
    "In this example we go through the basics of generatic circuits using Classiq's platform"
   ]
  },
  {
   "cell_type": "markdown",
   "id": "4c02320f-efc1-41bb-9f99-65688645c1e2",
   "metadata": {},
   "source": [
    "First, let us create a circuit generator:"
   ]
  },
  {
   "cell_type": "code",
   "execution_count": null,
   "id": "9b9a2d1f-5eed-48bc-8bfc-9b81dd835402",
   "metadata": {},
   "outputs": [],
   "source": [
    "from classiq import ModelDesigner\n",
    "from classiq.interface.generator.model import Preferences\n",
    "\n",
    "preferences = Preferences(\n",
    "    output_format=[\n",
    "        \"qasm\",  # OpenQASM v2.0\n",
    "        \"qs\",  # Q#\n",
    "    ],\n",
    "    draw_image=True,\n",
    ")\n",
    "\n",
    "model_designer = ModelDesigner(preferences=preferences)"
   ]
  },
  {
   "cell_type": "markdown",
   "id": "535f4e0d-cfef-4e32-aeb9-fb4adf97a88d",
   "metadata": {},
   "source": [
    "Other supported output formats are:\n",
    "- OpenQASM v2.0 : \"qasm\"\n",
    "- Q# : \"qs\"\n",
    "- QIR : \"ll\"\n",
    "- IonQ : \"ionq\"\n",
    "- Cirq : \"cirq_json\"\n",
    "- Cirq-compatible OpenQASM v2.0 : \"qasm_cirq_compatible\""
   ]
  },
  {
   "cell_type": "markdown",
   "id": "c1abbc92-876d-4f06-a57b-53066f83d3df",
   "metadata": {},
   "source": [
    "Next, let us define a Quantum Register.\n",
    "Quantum Registers are used, like variables, for passing the output of one function into the input of another."
   ]
  },
  {
   "cell_type": "code",
   "execution_count": null,
   "id": "5b46e305-5452-43e1-907a-9461b2795304",
   "metadata": {},
   "outputs": [],
   "source": [
    "from classiq import QReg\n",
    "\n",
    "x = QReg(size=3)"
   ]
  },
  {
   "cell_type": "markdown",
   "id": "eaffb1e6-2d15-4a58-8dfe-a60857f2aa38",
   "metadata": {},
   "source": [
    "Let us initialize our variable with a probability distribution:"
   ]
  },
  {
   "cell_type": "code",
   "execution_count": null,
   "id": "99ea5f19-addf-469a-b4d2-d4cc9c5ece37",
   "metadata": {},
   "outputs": [],
   "source": [
    "from classiq.builtin_functions import StatePreparation\n",
    "from classiq.interface.generator.state_preparation import (\n",
    "    PMF,\n",
    "    Metrics,\n",
    "    NonNegativeFloatRange,\n",
    ")\n",
    "\n",
    "# Setting the probabilities\n",
    "probabilities = (0.5, 0.1, 0.2, 0.005, 0.015, 0.12, 0.035, 0.025)\n",
    "# Creating the function call\n",
    "pmf = PMF(pmf=probabilities)\n",
    "sp_params = StatePreparation(\n",
    "    probabilities=pmf,\n",
    "    num_qubits=x.size + 1,  # 1 for an auxillary qubit\n",
    "    error_metric={Metrics.KL: NonNegativeFloatRange(upper_bound=0.3)},\n",
    ")\n",
    "\n",
    "# Calling the function,\n",
    "# and saving the output to our variable\n",
    "model_designer.StatePreparation(sp_params, out_wires=x)"
   ]
  },
  {
   "cell_type": "markdown",
   "id": "c7f17218-d5d0-46bb-8af8-8f713d176628",
   "metadata": {},
   "source": [
    "We can now chain another function.\n",
    "For example, let us take the initialized variable, and take its Fourier's transform:"
   ]
  },
  {
   "cell_type": "code",
   "execution_count": null,
   "id": "2c10b8c3-e48c-4e16-8da7-1610c46dc2eb",
   "metadata": {},
   "outputs": [],
   "source": [
    "from classiq.builtin_functions import QFT\n",
    "\n",
    "x_qft = QReg(size=3)\n",
    "\n",
    "qft_params = QFT(num_qubits=x.size)\n",
    "model_designer.QFT(qft_params, in_wires=x, out_wires=x_qft)"
   ]
  },
  {
   "cell_type": "markdown",
   "id": "40827fee-aa57-45d7-950a-1076b4845299",
   "metadata": {},
   "source": [
    "Now, our circuit is complete!\n",
    "Let us generate our circuit:"
   ]
  },
  {
   "cell_type": "code",
   "execution_count": null,
   "id": "9b9b7bc9-0cdb-4a10-9a33-8b86985560c3",
   "metadata": {
    "tags": []
   },
   "outputs": [],
   "source": [
    "circuit = model_designer.synthesize()"
   ]
  },
  {
   "cell_type": "markdown",
   "id": "169c73d6-ee96-48d8-b9e8-39b69ef1d39b",
   "metadata": {},
   "source": [
    "We can either display the image inside this jupyer notebook:"
   ]
  },
  {
   "cell_type": "code",
   "execution_count": null,
   "id": "c35c8c5d-9d46-42ca-a9bf-a82a1ecea3ff",
   "metadata": {},
   "outputs": [],
   "source": [
    "circuit.image"
   ]
  },
  {
   "cell_type": "markdown",
   "id": "7a7ec819-ce66-4f93-9095-8fbb911751c2",
   "metadata": {},
   "source": [
    "Or display the image in a new window:"
   ]
  },
  {
   "cell_type": "code",
   "execution_count": null,
   "id": "6fccfba5-9f0b-4f99-a78c-399f86c3f354",
   "metadata": {},
   "outputs": [],
   "source": [
    "circuit.show()"
   ]
  },
  {
   "cell_type": "markdown",
   "id": "0062f12c-7c54-49c3-af77-56ea65b5dfe8",
   "metadata": {},
   "source": [
    "And we can access the circuit as OpenQASM:"
   ]
  },
  {
   "cell_type": "code",
   "execution_count": null,
   "id": "493da0d0-7a20-4e11-83ba-bec3147c2e3b",
   "metadata": {},
   "outputs": [],
   "source": [
    "print(circuit.qasm)"
   ]
  },
  {
   "cell_type": "markdown",
   "id": "f1dd804f-9f5c-455a-bac3-e5b3acf148d7",
   "metadata": {},
   "source": [
    "as well as accessing it as Q#:"
   ]
  },
  {
   "cell_type": "code",
   "execution_count": null,
   "id": "ccdbb4c8-068e-4147-9c5f-59291bc96f8e",
   "metadata": {},
   "outputs": [],
   "source": [
    "print(circuit.qsharp)"
   ]
  }
 ],
 "metadata": {
  "kernelspec": {
   "display_name": "Python 3 (ipykernel)",
   "language": "python",
   "name": "python3"
  },
  "language_info": {
   "codemirror_mode": {
    "name": "ipython",
    "version": 3
   },
   "file_extension": ".py",
   "mimetype": "text/x-python",
   "name": "python",
   "nbconvert_exporter": "python",
   "pygments_lexer": "ipython3",
   "version": "3.8.5"
  }
 },
 "nbformat": 4,
 "nbformat_minor": 5
}
