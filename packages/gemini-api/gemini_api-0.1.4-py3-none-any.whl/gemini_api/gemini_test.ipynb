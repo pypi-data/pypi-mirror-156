{
 "cells": [
  {
   "cell_type": "markdown",
   "metadata": {},
   "source": [
    "# Bank Transactions Pipeline\n",
    "## All transactions using Monzo and other cards through Google Sheets Manual Transactions for 2018-2021"
   ]
  },
  {
   "cell_type": "code",
   "execution_count": 10,
   "metadata": {},
   "outputs": [],
   "source": [
    "import os\n",
    "import gspread\n",
    "import monzo as m\n",
    "from monzo.handlers.echo import Echo\n",
    "from monzo.endpoints.transaction import Transaction\n",
    "from monzo.endpoints.balance import Balance\n",
    "from monzo.endpoints.pot import Pot\n",
    "from monzo.handlers.filesystem import FileSystem\n",
    "from monzo.authentication import Authentication\n",
    "from monzo.exceptions import MonzoAuthenticationError, MonzoServerError\n",
    "from db import FinancesDb\n",
    "import datetime\n",
    "import pandas as pd\n",
    "import numpy as np\n",
    "from pandas.io.json import json_normalize\n",
    "from categories import cat_dict, columns_dict\n",
    "from json import dumps, loads\n",
    "pd.set_option('display.max_rows', 5000)\n",
    "import warnings\n",
    "warnings.filterwarnings(\"ignore\")"
   ]
  },
  {
   "cell_type": "markdown",
   "metadata": {},
   "source": [
    "### Authenticaion"
   ]
  },
  {
   "cell_type": "code",
   "execution_count": 11,
   "metadata": {},
   "outputs": [],
   "source": [
    "client_id = os.environ.get('MONZO_CLIENT_ID')\n",
    "client_secret = os.environ.get('MONZO_CLIENT_SECRET')\n",
    "redirect_uri = 'http://127.0.0.1/monzo'  \n",
    "start_date = datetime.datetime.now() - datetime.timedelta(89)\n",
    "\n",
    "with open('/Users/eliasbenaddouidrissi/Desktop/projects/monzo_dashboard/monzo_dashboard/tokens', 'r') as tokens:\n",
    "    content = loads(tokens.read())\n",
    "\n",
    "monzo = Authentication(client_id=client_id, client_secret=client_secret,\n",
    "                     redirect_url=redirect_uri, access_token=content['access_token'],\n",
    "                     refresh_token=content['refresh_token'], access_token_expiry=content['expiry'])\n",
    "\n",
    "handler = FileSystem('/Users/eliasbenaddouidrissi/Desktop/projects/monzo_dashboard/monzo_dashboard/tokens') \n",
    "monzo.register_callback_handler(handler)"
   ]
  },
  {
   "cell_type": "markdown",
   "metadata": {},
   "source": [
    "### Importing new Monzo Transactions"
   ]
  },
  {
   "cell_type": "code",
   "execution_count": 12,
   "metadata": {},
   "outputs": [],
   "source": [
    "fetched_transactions = Transaction.fetch(auth=monzo, account_id='acc_00009Uu4ltUzxjOvYjP87d')\n",
    "\n",
    "transactions_dict = {}\n",
    "\n",
    "for index, row in enumerate(fetched_transactions):\n",
    "    transaction_data = Transaction.fetch_single(auth=monzo, transaction_id=fetched_transactions[index].transaction_id)\n",
    "\n",
    "    id = transaction_data.transaction_id\n",
    "    scheme = transaction_data.scheme\n",
    "    date = transaction_data.created\n",
    "    description = transaction_data.description\n",
    "    amount = transaction_data.amount\n",
    "    category = transaction_data.category\n",
    "    categories = transaction_data.categories\n",
    "    counterparty = transaction_data.counterparty\n",
    "    decline_reason = transaction_data.decline_reason\n",
    "    merchant = transaction_data.merchant\n",
    "    meta = transaction_data.metadata\n",
    "\n",
    "    transactions_dict[index] = id, date, description, amount, category, categories, counterparty, scheme, decline_reason, merchant, meta\n",
    "\n",
    "transactions_df = pd.DataFrame(transactions_dict).T\n",
    "transactions_df.rename(columns ={0:'id', 1:'date', 2:'description',\n",
    " 3:'amount', 4:'category', 5:'categories', 6:'counterparty', 7:'scheme',\n",
    "  8:'decline_reason', 9:'merchant_info', 10:'meta'}, inplace=True)\n",
    "transactions_df['decline'] = np.where(transactions_df['decline_reason'] == '', 0, 1 )"
   ]
  },
  {
   "cell_type": "code",
   "execution_count": 13,
   "metadata": {},
   "outputs": [],
   "source": [
    "merchant_info = pd.json_normalize(transactions_df['merchant_info'])\n",
    "metadata = pd.json_normalize(transactions_df['meta'])\n",
    "multiple_categories = pd.json_normalize(transactions_df['categories'])\n",
    "\n",
    "transactions_merchant = transactions_df.merge(merchant_info, left_index=True, right_index=True)\n",
    "transactions_meta = transactions_merchant.merge(metadata, left_index=True, right_index=True)\n",
    "transactions_multiple_categories = transactions_meta.merge(multiple_categories, left_index=True, right_index=True)\n",
    "\n",
    "transactions = transactions_multiple_categories.drop(['merchant_info', 'meta', 'categories', 'counterparty'], axis=1)\n",
    "transactions['category_x'].replace(cat_dict, inplace=True)\n",
    "transactions['amount'].apply(lambda x: (-1*(x/100)))\n",
    "transactions['date'] = pd.to_datetime(transactions['date'], format='%Y-%m-%d')\n",
    "\n",
    "transactions.reset_index(drop=True, inplace=True)\n",
    "transactions.rename(columns=columns_dict, inplace=True)       \n",
    "transactions.drop(['updated', 'created'], axis=1)"
   ]
  },
  {
   "cell_type": "markdown",
   "metadata": {},
   "source": [
    "### Manual Imported Transactions"
   ]
  },
  {
   "cell_type": "code",
   "execution_count": 14,
   "metadata": {},
   "outputs": [],
   "source": [
    "sa = gspread.service_account().open_by_url(\"https://docs.google.com/spreadsheets/d/11y1xCKEY8x_bHGiD8H9Kn3ytVSFtc_e-CF2t7Q8qQFQ/edit#gid=1283738573\").worksheet(\"Form Responses\")\n",
    "df_manual_trans = pd.DataFrame(sa.get_all_records()).rename(columns={'Timestamp': 'date', 'What did you purchase/deposit?': 'merchant_description', 'What category does it fall into?': 'category', 'What was the amount?': 'amount'})\n",
    "# converting date column to datetime object\n",
    "df_manual_trans.date = pd.to_datetime(df_manual_trans.date)"
   ]
  },
  {
   "cell_type": "code",
   "execution_count": 15,
   "metadata": {},
   "outputs": [],
   "source": [
    "cat_dict = {\n",
    "    'Groceries': 'groceries',\n",
    "    'Transport': 'transport',\n",
    "    'Eating Out': 'eating_out',\n",
    "    'Entertainment': 'entertainment',\n",
    "    'Phone': 'bills',\n",
    "    'Community Fibre': 'bills',\n",
    "    'iCloud Storage': 'subscriptions',\n",
    "    'Gifts': 'gifts',\n",
    "    'Netflix': 'subscriptions',\n",
    "    'Amazon Prime': 'subscriptions',\n",
    "    'Fees': 'fees',\n",
    "    'Gym': 'gym',\n",
    "    'Pet Food': 'pets',\n",
    "    'Tech': 'shopping',\n",
    "    'Clothes': 'clothes',\n",
    "    'Healthcare': 'healthcare',\n",
    "    'Haircut': 'haircut',\n",
    "    'NHS Prescription': 'subscriptions',\n",
    "    'Stocks': 'stocks',\n",
    "    'Crypto': 'crypto',\n",
    "    'Holidays': 'holidays',\n",
    "    'Insurance': 'bills',\n",
    "    'Learning': 'education',\n",
    "    'Home': 'home',\n",
    "    'Income': 'income',\n",
    "    'Capgemini Invent': 'income',\n",
    "    'Samsung': 'income',\n",
    "    'Vanguard': 'isa',\n",
    "    'Club Lloyds': 'savings',\n",
    "    'HSBC': 'savings',\n",
    "    'Marcus': 'savings',\n",
    "    'Interest': 'savings',\n",
    "    'Subscriptions': 'subscriptions',\n",
    "\n",
    "}\n",
    "\n",
    "df_manual_trans['category'].replace(cat_dict, inplace=True)\n",
    "df_manual_trans.rename(columns={'merchant_description':'description'}, inplace=True)"
   ]
  },
  {
   "cell_type": "markdown",
   "metadata": {},
   "source": [
    "### All transactions (Monzo + manual)"
   ]
  },
  {
   "cell_type": "code",
   "execution_count": 16,
   "metadata": {
    "scrolled": true
   },
   "outputs": [
    {
     "data": {
      "text/plain": [
       "['bills',\n",
       " 'clothes',\n",
       " 'crypto',\n",
       " 'eating_out',\n",
       " 'education',\n",
       " 'entertainment',\n",
       " 'fees',\n",
       " 'gifts',\n",
       " 'groceries',\n",
       " 'gym',\n",
       " 'haircut',\n",
       " 'healthcare',\n",
       " 'holidays',\n",
       " 'home',\n",
       " 'income',\n",
       " 'isa',\n",
       " 'pets',\n",
       " 'savings',\n",
       " 'shopping',\n",
       " 'stocks',\n",
       " 'subscriptions',\n",
       " 'transport']"
      ]
     },
     "execution_count": 16,
     "metadata": {},
     "output_type": "execute_result"
    }
   ],
   "source": [
    "sorted(list(df_manual_trans.category.unique()))"
   ]
  },
  {
   "cell_type": "code",
   "execution_count": 18,
   "metadata": {
    "scrolled": false
   },
   "outputs": [
    {
     "data": {
      "text/plain": [
       "['bills',\n",
       " 'clothes',\n",
       " 'crypto',\n",
       " 'eating_out',\n",
       " 'entertainment',\n",
       " 'expenses',\n",
       " 'fees',\n",
       " 'general',\n",
       " 'gifts',\n",
       " 'groceries',\n",
       " 'gym',\n",
       " 'haircut',\n",
       " 'healthcare',\n",
       " 'holidays',\n",
       " 'home',\n",
       " 'income',\n",
       " 'pets',\n",
       " 'refunds',\n",
       " 'shopping',\n",
       " 'subscriptions',\n",
       " 'transfers',\n",
       " 'transport',\n",
       " 'withdrawals']"
      ]
     },
     "execution_count": 18,
     "metadata": {},
     "output_type": "execute_result"
    }
   ],
   "source": [
    "sorted(list(transactions.category.unique()))"
   ]
  },
  {
   "cell_type": "code",
   "execution_count": 20,
   "metadata": {},
   "outputs": [],
   "source": [
    "# adding id's to manual transactions\n",
    "f, u = pd.factorize(df_manual_trans.date.values)\n",
    "df_manual_trans = df_manual_trans.assign(id='tx_0000' + pd.util.testing.rands_array(18, u.size)[f])\n",
    "\n",
    "#adding flag for monzo/manual\n",
    "transactions = transactions.assign(origin = 'monzo')\n",
    "df_manual_trans = df_manual_trans.assign(origin = 'manual')\n",
    "\n",
    "df = pd.concat([transactions, df_manual_trans], axis=0, ignore_index=True)\n",
    "df = df.sort_values(by='date').reset_index(drop=True)\n"
   ]
  },
  {
   "cell_type": "markdown",
   "metadata": {},
   "source": [
    "### Insert all transactions to database"
   ]
  },
  {
   "cell_type": "code",
   "execution_count": 23,
   "metadata": {},
   "outputs": [
    {
     "name": "stdout",
     "output_type": "stream",
     "text": [
      "[2022-01-02 14:24:20] Database connection established to Finances\n"
     ]
    }
   ],
   "source": [
    "db = FinancesDb()"
   ]
  },
  {
   "cell_type": "code",
   "execution_count": 24,
   "metadata": {},
   "outputs": [
    {
     "name": "stdout",
     "output_type": "stream",
     "text": [
      "[2022-01-02 14:24:22] Running SQL: exists\n",
      "[2022-01-02 14:24:25] Table created and 2144 rows inserted into public.transactions\n"
     ]
    }
   ],
   "source": [
    "db.create('public.transactions', df=df)"
   ]
  }
 ],
 "metadata": {
  "interpreter": {
   "hash": "4a5025ac8f3ee0c74d38c1ad01dafa05e4bea313bbff4a51ab208435aa493b89"
  },
  "kernelspec": {
   "display_name": "gs",
   "language": "python",
   "name": "python3"
  },
  "language_info": {
   "codemirror_mode": {
    "name": "ipython",
    "version": 3
   },
   "file_extension": ".py",
   "mimetype": "text/x-python",
   "name": "python",
   "nbconvert_exporter": "python",
   "pygments_lexer": "ipython3",
   "version": "3.9.1"
  }
 },
 "nbformat": 4,
 "nbformat_minor": 4
}
