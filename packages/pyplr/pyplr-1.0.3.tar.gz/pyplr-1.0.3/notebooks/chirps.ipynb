{
 "cells": [
  {
   "cell_type": "code",
   "execution_count": 1,
   "metadata": {},
   "outputs": [],
   "source": [
    "import sys\n",
    "sys.path.insert(0, '../../')\n",
    "from time import sleep\n",
    "\n",
    "import numpy as np\n",
    "import pandas as pd\n",
    "import matplotlib.pyplot as plt\n",
    "import seaborn as sns\n",
    "sns.set_context('poster')\n",
    "\n",
    "from pyplr.stlab import SpectraTuneLab\n",
    "from pyplr.calibrate import CalibrationContext"
   ]
  },
  {
   "cell_type": "code",
   "execution_count": 2,
   "metadata": {},
   "outputs": [
    {
     "ename": "NameError",
     "evalue": "name 'SpectraTuneLabScene' is not defined",
     "output_type": "error",
     "traceback": [
      "\u001b[0;31m---------------------------------------------------------------------------\u001b[0m",
      "\u001b[0;31mNameError\u001b[0m                                 Traceback (most recent call last)",
      "\u001b[0;32m/var/folders/c9/7yddvl1n2ss863cgfngj0wpm0000gp/T/ipykernel_55843/1086216039.py\u001b[0m in \u001b[0;36m<module>\u001b[0;34m\u001b[0m\n\u001b[0;32m----> 1\u001b[0;31m \u001b[0md\u001b[0m \u001b[0;34m=\u001b[0m \u001b[0mSpectraTuneLabScene\u001b[0m\u001b[0;34m(\u001b[0m\u001b[0mpassword\u001b[0m\u001b[0;34m=\u001b[0m\u001b[0;34m'23acd0c3e4c5c533'\u001b[0m\u001b[0;34m,\u001b[0m \u001b[0midentity\u001b[0m\u001b[0;34m=\u001b[0m\u001b[0;36m1\u001b[0m\u001b[0;34m,\u001b[0m \u001b[0mlighthub_ip\u001b[0m\u001b[0;34m=\u001b[0m\u001b[0;34m'192.168.6.2'\u001b[0m\u001b[0;34m)\u001b[0m\u001b[0;34m\u001b[0m\u001b[0;34m\u001b[0m\u001b[0m\n\u001b[0m",
      "\u001b[0;31mNameError\u001b[0m: name 'SpectraTuneLabScene' is not defined"
     ]
    }
   ],
   "source": [
    "d = SpectraTuneLabScene(password='23acd0c3e4c5c533', identity=1, lighthub_ip='192.168.6.2')\n"
   ]
  },
  {
   "cell_type": "code",
   "execution_count": null,
   "metadata": {
    "tags": []
   },
   "outputs": [],
   "source": [
    "def interp_spectra(spectra):\n",
    "    '''\n",
    "    This function needs generalising.\n",
    "\n",
    "    Parameters\n",
    "    ----------\n",
    "    spectra : TYPE\n",
    "        DESCRIPTION.\n",
    "\n",
    "    Returns\n",
    "    -------\n",
    "    intp_tbl : TYPE\n",
    "        DESCRIPTION.\n",
    "\n",
    "    '''\n",
    "    #tbl = spectra.unstack(level=0)\n",
    "    #tbl.columns = [val[1] for val in tbl.columns]\n",
    "    \n",
    "    intp_tbl = pd.DataFrame()\n",
    "    for led, df in spectra.groupby(['led']):\n",
    "        intensities = df.index.get_level_values('intensity')\n",
    "        new_intensities = np.linspace(intensities.min(), intensities.max(), 4096)\n",
    "        new_intensities = new_intensities.astype('int')\n",
    "        df.reset_index(inplace=True, drop=True)\n",
    "        #df.columns = range(0, df.shape[1])\n",
    "        df.index = df.index * 63\n",
    "        n = df.reindex(new_intensities).interpolate(method='linear')\n",
    "        n['intensity'] = n.index\n",
    "        n['led'] = led\n",
    "        intp_tbl = intp_tbl.append(n)\n",
    "    intp_tbl.set_index(['led','intensity'], inplace=True)\n",
    "    return intp_tbl"
   ]
  },
  {
   "cell_type": "code",
   "execution_count": null,
   "metadata": {},
   "outputs": [],
   "source": [
    "cc = CalibrationContext('../data/S2_corrected_oo_spectra.csv', binwidth=1)\n",
    "LED3_max = 1800 # comfortable maximal melanopsin stim\n",
    "r_matches = {}\n",
    "for led in [1,3,5,9]:\n",
    "    match = cc.match(match_led=3, match_led_intensity=LED3_max, target_led=led, match_type='irrad')\n",
    "    r_matches[led] = match\n",
    "\n",
    "idxs = [(led,intensity[1]) for led, intensity in r_matches.items()]\n",
    "stim_info = cc.aopic.loc[idxs]\n",
    "stim_info['lux'] = cc.lux.loc[idxs]\n",
    "stim_info['irradiance'] = cc.lkp.sum(axis=1)\n",
    "stim_info.rename(columns={'irradiance':'Irradiance'}, inplace=True)\n",
    "stim_info"
   ]
  },
  {
   "cell_type": "code",
   "execution_count": null,
   "metadata": {},
   "outputs": [],
   "source": [
    "cc.lkp.loc[[(led, 4095) for led in range(10)]].max(axis=1)"
   ]
  },
  {
   "cell_type": "code",
   "execution_count": null,
   "metadata": {},
   "outputs": [],
   "source": [
    "cc.lkp.loc[[(led, 4095) for led in range(10)]].idxmax(axis=1)"
   ]
  },
  {
   "cell_type": "code",
   "execution_count": null,
   "metadata": {},
   "outputs": [],
   "source": [
    "c = stlab.get_led_colors()\n",
    "c = [c[i] for i in stim_info.index.get_level_values(0)]\n",
    "d = stim_info.reset_index().melt(id_vars=['led','intensity'], \n",
    "                          value_name='flux',\n",
    "                          var_name='aopic')\n",
    "d = d[d.aopic!='lux']\n",
    "fg = sns.catplot(x='aopic', \n",
    "                  y='flux', \n",
    "                  data=d, \n",
    "                  hue='led', \n",
    "                  kind='bar', \n",
    "                  palette=c, \n",
    "                  alpha=.8)\n",
    "fg.set(xlabel='',\n",
    "       ylabel='W/m$^2$')\n",
    "plt.xticks(rotation=45)\n",
    "fg._legend.set_title('$\\lambda$-max')\n",
    "fg._legend.set_bbox_to_anchor((1.1, .5))\n",
    "new_labels = ['446', '475', '522', '657']\n",
    "sns.despine(top=False, right=False)\n",
    "for t, l in zip(fg._legend.texts, new_labels): \n",
    "    t.set_text(l)\n",
    "fg.savefig('chirp_stims.tiff', dpi=300)\n"
   ]
  },
  {
   "cell_type": "code",
   "execution_count": null,
   "metadata": {},
   "outputs": [],
   "source": [
    "c = stlab.get_led_colors()\n",
    "c = [c[i] for i in stim_info.index.get_level_values(0)]\n",
    "d = stim_info.reset_index().melt(id_vars=['led','intensity'], \n",
    "                          value_name='flux',\n",
    "                          var_name='aopic')\n",
    "d = d[d.aopic=='lux']\n",
    "fg = sns.catplot(x='led', \n",
    "                  y='flux', \n",
    "                  data=d, \n",
    "                  kind='bar', \n",
    "                  palette=c, \n",
    "                  alpha=.8,\n",
    "                legend=False)\n",
    "fg.set(xlabel='',\n",
    "       ylabel='Lux',\n",
    "       xticklabels=new_labels)\n",
    "plt.xticks(rotation=45)\n",
    "sns.despine(top=False, right=False)\n",
    "plt.savefig('chirp_lux.tiff', dpi=300)"
   ]
  },
  {
   "cell_type": "code",
   "execution_count": null,
   "metadata": {},
   "outputs": [],
   "source": [
    "d"
   ]
  },
  {
   "cell_type": "code",
   "execution_count": null,
   "metadata": {},
   "outputs": [],
   "source": [
    "d = cc.lkp.loc[idxs].reset_index().melt(id_vars=['led','intensity'], \n",
    "                                        value_name='flux',\n",
    "                                        var_name='Wavelength')\n",
    "fig, ax = plt.subplots()\n",
    "sns.lineplot(data=d, \n",
    "             x='Wavelength', \n",
    "             y='flux', \n",
    "             units='led', \n",
    "             estimator=None, \n",
    "             hue='led', \n",
    "             palette=c, \n",
    "             legend=False, \n",
    "             ax=ax)\n",
    "ax.set(ylabel='W/m$^2$/nm',\n",
    "      xlabel='Wavelength (nm)')\n",
    "sns.despine(top=False, right=False)\n",
    "fig.savefig('chirp_SPDs.tiff', dpi=300, bbox_inches='tight')\n"
   ]
  },
  {
   "cell_type": "code",
   "execution_count": null,
   "metadata": {},
   "outputs": [],
   "source": [
    "from scipy.signal import chirp\n",
    "\n",
    "for (led, intensity), info in stim_info.iterrows():\n",
    "\n",
    "    # stimulus params\n",
    "    videoname = 'chirp_{}'.format(led)\n",
    "    Fs = 100\n",
    "    mintensity = 0\n",
    "    maxtensity = intensity\n",
    "\n",
    "    # stimulus params\n",
    "    background  = maxtensity/2\n",
    "    amplitude   = maxtensity/2\n",
    "    duration = 20\n",
    "    n = 2000\n",
    "    t = np.linspace(0, duration, n, endpoint=False)\n",
    "    f0 = 0.01\n",
    "    f1 = 1\n",
    "\n",
    "    # define frequency modulation\n",
    "    chp = chirp(t, f0, duration, f1, method='linear', phi=270)\n",
    "    chp = stlab.modulate_intensity_amplitude(chp, background, amplitude)\n",
    "    #fig, ax = plt.subplots(figsize=(12,4))\n",
    "    #ax.plot(chp)\n",
    "    #ax.set_ylabel(\"Intensity\")\n",
    "    #ax.set_xlabel(\"Time\")\n",
    "\n",
    "    # define amplitude modulation\n",
    "    time  = stlab.get_time_vector(duration)\n",
    "    sm = stlab.sinusoid_modulation(.5, duration, Fs)\n",
    "    ivals = stlab.modulate_intensity_amplitude(sm, background, np.linspace(0,amplitude,duration*Fs))\n",
    "    #fig, ax = plt.subplots(figsize=(12,4))\n",
    "    #ax.plot(ivals)\n",
    "    #ax.set_ylabel(\"Intensity\")\n",
    "    #ax.set_xlabel(\"Time\");\n",
    "\n",
    "    duration=60\n",
    "    time = stlab.get_time_vector(duration)\n",
    "    stim = np.zeros(duration*Fs)\n",
    "\n",
    "    # assemble time course\n",
    "    stim[0:100]     = maxtensity # 1s pulse\n",
    "    stim[800:900]   = background # step\n",
    "    stim[900:2900]  = chp  # chirp\n",
    "    stim[2900:3100] = background\n",
    "    stim[3100:5100] = ivals\n",
    "    stim[5100:5300] = background\n",
    "    stim = stim.astype('int')\n",
    "\n",
    "    # plot\n",
    "    #fig, ax = plt.subplots(figsize=(16,4))\n",
    "    #ax.plot(stim)\n",
    "    #ax.set_ylabel(\"Intensity\")\n",
    "    #ax.set_xlabel(\"Time\")\n",
    "\n",
    "    # make video file\n",
    "    cols = stlab.get_video_cols()\n",
    "    zs = np.zeros(duration*Fs)\n",
    "    zs = zs.astype('int')\n",
    "    data = [zs for x in range(10)]\n",
    "    data[led] = stim\n",
    "\n",
    "    #data = [stim for x in range(10)]\n",
    "    data.insert(0, time)\n",
    "    df = pd.DataFrame(data, cols).T\n",
    "    setting = {'led':led,'max_intensity':intensity}\n",
    "    info = {**info.to_dict(), **setting}\n",
    "    stlab.make_video_file(df, videoname, **info)"
   ]
  },
  {
   "cell_type": "code",
   "execution_count": null,
   "metadata": {},
   "outputs": [],
   "source": [
    "#stim = np.hstack([np.zeros(500),stim])\n",
    "fig, ax = plt.subplots(figsize=(14,4))\n",
    "ax.plot(np.arange(0, len(stim)), stim, c='k')\n",
    "plt.xlabel('Time (s)')\n",
    "plt.yticks([0,1322],['min','max'])\n",
    "plt.xticks(range(500, 7000, 1000), [str(val) for val in range(0, 70, 10)])\n",
    "sns.despine()\n",
    "plt.savefig('chirp_profile.svg', bbox_inches='tight')"
   ]
  },
  {
   "cell_type": "code",
   "execution_count": null,
   "metadata": {},
   "outputs": [],
   "source": [
    "import glob\n",
    "from time import sleep\n",
    "\n",
    "for chp in glob.glob('chirp_*.dsf'):\n",
    "    d.load_video_file(chp)\n",
    "    d.play_video_file()\n",
    "    sleep(60)"
   ]
  },
  {
   "cell_type": "code",
   "execution_count": null,
   "metadata": {},
   "outputs": [],
   "source": [
    "glob.glob('chirp_*.dsf')"
   ]
  },
  {
   "cell_type": "code",
   "execution_count": null,
   "metadata": {},
   "outputs": [],
   "source": []
  }
 ],
 "metadata": {
  "kernelspec": {
   "display_name": "Python 3 (ipykernel)",
   "language": "python",
   "name": "python3"
  },
  "language_info": {
   "codemirror_mode": {
    "name": "ipython",
    "version": 3
   },
   "file_extension": ".py",
   "mimetype": "text/x-python",
   "name": "python",
   "nbconvert_exporter": "python",
   "pygments_lexer": "ipython3",
   "version": "3.7.7"
  }
 },
 "nbformat": 4,
 "nbformat_minor": 4
}
