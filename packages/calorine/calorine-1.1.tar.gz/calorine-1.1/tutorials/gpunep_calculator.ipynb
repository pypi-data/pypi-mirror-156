{
 "cells": [
  {
   "cell_type": "markdown",
   "id": "29a77281-d15f-4459-b42b-90639d9fd158",
   "metadata": {},
   "source": [
    "# ASE calculator\n",
    "\n",
    "This tutorial demonstrates how to use the [ASE](https://wiki.fysik.dtu.dk/ase/) calculator for NEP with GPUMD as provided in `calorine`.\n",
    "An ASE calculator lets a user calculate energies, forces and stresses for an atomic configuration, more specifically an [ASE Atoms object](https://wiki.fysik.dtu.dk/ase/ase/atoms.html).\n",
    "In the present context, this makes it possible to programmatically calculate properties that would otherwise require writing a large number of GPUMD input files and tedious extraction of the results.\n",
    "\n",
    "***Note that this tutorial assumes that GPUMD version 3.3 is installed on your machine.***\n"
   ]
  },
  {
   "cell_type": "markdown",
   "id": "a5ed3304-a3b0-4ed8-9e1d-166355ab2a74",
   "metadata": {
    "tags": []
   },
   "source": [
    "## Basic usage\n",
    "We begin by creating a calculator and an `Atoms` object for which we soon will calculate potential energy, forces and stresses.\n",
    "We initialize the calculator by specifying a path to the NEP model file (typically a `nep.txt` file).\n",
    "In this tutorial, we use a [NEP3 model for PbTe](https://gitlab.com/brucefan1983/nep-data/-/tree/main/PbTe).\n",
    "The calculator is then attached to the `Atoms` object."
   ]
  },
  {
   "cell_type": "code",
   "execution_count": 1,
   "id": "6e0bc508-b926-4312-a3ef-43a2f6733be4",
   "metadata": {},
   "outputs": [],
   "source": [
    "from calorine import GPUNEP\n",
    "from ase.build import bulk\n",
    "\n",
    "atoms = bulk('PbTe', crystalstructure='rocksalt', a=6.7)\n",
    "calc = GPUNEP('PbTe_NEP3.txt')\n",
    "atoms.calc = calc"
   ]
  },
  {
   "cell_type": "markdown",
   "id": "0daccfc5-91ce-4295-b3b5-eb7ab2a1be7c",
   "metadata": {},
   "source": [
    "The stage is now set for calculation of energies, forces and stresses:"
   ]
  },
  {
   "cell_type": "code",
   "execution_count": 2,
   "id": "86a7f3fb-3d7f-4b6c-b47c-d4203ad8a739",
   "metadata": {},
   "outputs": [
    {
     "name": "stdout",
     "output_type": "stream",
     "text": [
      "Energy (eV): -7.6810722351\n",
      "Forces (eV/Å):\n",
      " [[-4.00012e-08 -4.61735e-08 -3.31625e-08]\n",
      " [ 4.00012e-08  4.61735e-08  3.31625e-08]]\n",
      "Stresses (eV/Å^3): [ 4.82120785e-03  4.82120666e-03  4.82120760e-03 -1.29963668e-09\n",
      " -1.42977897e-09 -1.71918525e-09]\n"
     ]
    }
   ],
   "source": [
    "print('Energy (eV):', atoms.get_potential_energy())\n",
    "print('Forces (eV/Å):\\n', atoms.get_forces())\n",
    "print('Stresses (eV/Å^3):', atoms.get_stress())"
   ]
  },
  {
   "cell_type": "markdown",
   "id": "089a8493-4737-4a83-9399-1ea46a08774c",
   "metadata": {},
   "source": [
    "## Calculate energy-volume curve\n",
    "To demonstrate the capabilities of the ASE calculator, we will now calculate an energy-volume curve with the PbTe potential."
   ]
  },
  {
   "cell_type": "code",
   "execution_count": 3,
   "id": "66151bae-4b5e-48b5-b91b-196ca351926f",
   "metadata": {},
   "outputs": [
    {
     "data": {
      "image/png": "[encoded data removed]",
      "text/plain": [
       "<Figure size 432x288 with 1 Axes>"
      ]
     },
     "metadata": {
      "needs_background": "light"
     },
     "output_type": "display_data"
    }
   ],
   "source": [
    "%matplotlib inline\n",
    "import matplotlib.pyplot as plt\n",
    "\n",
    "energies = []\n",
    "volumes = []\n",
    "\n",
    "atoms_copy = atoms.copy()\n",
    "original_cell = atoms.cell.copy()\n",
    "\n",
    "atoms_copy.calc = calc\n",
    "\n",
    "for scale in np.arange(0.9, 1.11, 0.01):\n",
    "    atoms_copy.set_cell(scale * original_cell, scale_atoms=True)\n",
    "    volumes.append(atoms_copy.get_volume())\n",
    "    energies.append(atoms_copy.get_potential_energy() / len(atoms_copy))\n",
    "\n",
    "fig, ax = plt.subplots()\n",
    "ax.plot(volumes, energies, '-o')\n",
    "ax.set_xlabel('Volume (Å^3)')\n",
    "ax.set_ylabel('Energy (eV/atom)');"
   ]
  },
  {
   "cell_type": "markdown",
   "id": "7ec80392-5346-4da3-9cf1-c556f31a2e37",
   "metadata": {},
   "source": [
    "## Temporary and specified directories\n",
    "Under the hood, the GPUMD calculator creates a directory and writes the input files necessary to run GPUMD.\n",
    "In the above examples, this was done in temporary directories that were automatically removed once the calculations finished.\n",
    "It is also possible to run in a user-specified directory that will be kept after the calculations finish."
   ]
  },
  {
   "cell_type": "code",
   "execution_count": 4,
   "id": "be3a38a4-7d18-43ec-b512-37ce7a973223",
   "metadata": {},
   "outputs": [
    {
     "data": {
      "text/plain": [
       "-7.6810722351"
      ]
     },
     "execution_count": 4,
     "metadata": {},
     "output_type": "execute_result"
    }
   ],
   "source": [
    "calc.set_directory('my_directory')\n",
    "atoms.get_potential_energy()"
   ]
  },
  {
   "cell_type": "markdown",
   "id": "2eaa6432-df7c-4de5-bb66-f299bf002c6a",
   "metadata": {},
   "source": [
    "After this is run, there should be a new directory, `my_directory`, in which input and output files from GPUMD are available.\n",
    "This can be useful for debugging."
   ]
  },
  {
   "cell_type": "markdown",
   "id": "c0003105-86a3-4253-94c5-26f10c27dbc7",
   "metadata": {},
   "source": [
    "## Run custom molecular dynamics simulations\n",
    "To take advantage of the Python workflow as well as raw speed of the GPU accelerated NEP implementation, the ASE calculator also contains a convenience function for running customized MD simulations.\n",
    "This should typically be done in a specified directory.\n",
    "The parameters of the `run.in` file are specified as a list of tuples with two elements, the first being the keyword name and the second any arguments to that keyword."
   ]
  },
  {
   "cell_type": "code",
   "execution_count": 5,
   "id": "f8e8954f-cebb-4d22-a0b6-670603d03ce9",
   "metadata": {},
   "outputs": [],
   "source": [
    "calc.set_directory('my_md_simulation')\n",
    "supercell = atoms.repeat(5)\n",
    "atoms.calc = calc\n",
    "parameters = [('velocity', 300),\n",
    "              ('dump_thermo', 100),\n",
    "              ('dump_position', 100),\n",
    "              ('ensemble', ('nvt_ber', 300, 300, 100)),\n",
    "              ('run', 1000)]\n",
    "calc.run_custom_md(parameters)"
   ]
  },
  {
   "cell_type": "markdown",
   "id": "f6b6f5e1-c44c-45d1-bb5d-f522393a8cd2",
   "metadata": {},
   "source": [
    "Once this is run, the results are available in the folder `my_md_simulations`."
   ]
  }
 ],
 "metadata": {
  "kernelspec": {
   "display_name": "Python 3 (ipykernel)",
   "language": "python",
   "name": "python3"
  },
  "language_info": {
   "codemirror_mode": {
    "name": "ipython",
    "version": 3
   },
   "file_extension": ".py",
   "mimetype": "text/x-python",
   "name": "python",
   "nbconvert_exporter": "python",
   "pygments_lexer": "ipython3",
   "version": "3.8.10"
  }
 },
 "nbformat": 4,
 "nbformat_minor": 5
}
