{
 "cells": [
  {
   "cell_type": "markdown",
   "id": "9c418f35",
   "metadata": {},
   "source": [
    "# `nepy`: NEP C++ interface\n",
    "\n",
    "This tutorial demonstrates the basic functionality of `nepy`. `nepy` interfaces directly with the `GPUMD` NEP object, and enables analysis of trained NEP models. Specifically, `nepy` exposes convenience functions for calculating per-atom descriptors, energies, forces and virials/stresses for [ASE Atoms objects](https://wiki.fysik.dtu.dk/ase/ase/atoms.html), as well as a CPU-only ASE calculator.\n",
    "\n",
    "***Note: `nepy` only supports NEP potentials created with GPUMD version 3.3 and later***"
   ]
  },
  {
   "cell_type": "markdown",
   "id": "cfd330c0",
   "metadata": {},
   "source": [
    "## Calculate descriptors, energies and forces\n",
    "We start by creating an `Atoms` object which will serve as our prototype system for the extent of this tutorial, and importing the `get_descriptors` and `get_potential_forces_and_virials` functions from `nepy`."
   ]
  },
  {
   "cell_type": "code",
   "execution_count": 1,
   "id": "83a90034",
   "metadata": {},
   "outputs": [],
   "source": [
    "from calorine.nepy import get_descriptors, get_potential_forces_and_virials\n",
    "from ase.build import bulk\n",
    "\n",
    "atoms = bulk('PbTe', crystalstructure='rocksalt', a=6.7)"
   ]
  },
  {
   "cell_type": "markdown",
   "id": "87793a0c",
   "metadata": {},
   "source": [
    "We can now compute the descriptors, energies, forces and virials for our system by calling `get_descriptors` and `get_potential_forces_and_virials` and passing in our system together with a path to a NEP model file (often called `nep.txt`). Here, we use a [NEP3 model for PbTe](https://gitlab.com/brucefan1983/nep-data/-/tree/main/PbTe)."
   ]
  },
  {
   "cell_type": "code",
   "execution_count": 2,
   "id": "fd406810",
   "metadata": {},
   "outputs": [
    {
     "name": "stdout",
     "output_type": "stream",
     "text": [
      "Shape of descriptors: (2, 30)\n",
      "Energy (eV):\n",
      " [-3.81130494 -3.86976582]\n",
      "Forces (eV/Å):\n",
      " [[ 2.70616862e-16  2.85239922e-17 -1.16068684e-16]\n",
      " [-2.70616862e-16 -2.85239922e-17  1.16068684e-16]]\n",
      "Virials (eV):\n",
      " [[-2.34181544e-01 -2.65703027e-16  1.22107929e-16 -2.57029410e-16\n",
      "  -2.34181544e-01  2.64354885e-17  1.42924611e-16  2.64354885e-17\n",
      "  -2.34181544e-01]\n",
      " [-1.28333417e-01 -4.71844785e-16  4.16333634e-17 -4.71844785e-16\n",
      "  -1.28333417e-01 -8.32667268e-17  1.38777878e-17 -8.32667268e-17\n",
      "  -1.28333417e-01]]\n"
     ]
    }
   ],
   "source": [
    "descriptors = get_descriptors(\n",
    "    atoms, \n",
    "    potential_filename='PbTe_NEP3.txt'\n",
    ")\n",
    "\n",
    "per_atom_energies, forces, virials = get_potential_forces_and_virials(\n",
    "    atoms, \n",
    "    potential_filename='PbTe_NEP3.txt'\n",
    ")\n",
    "\n",
    "print(f'Shape of descriptors: {descriptors.shape}')\n",
    "print(f'Energy (eV):\\n {per_atom_energies}')\n",
    "print(f'Forces (eV/Å):\\n {forces}')\n",
    "print(f'Virials (eV):\\n {virials}')"
   ]
  },
  {
   "cell_type": "markdown",
   "id": "dae0f087",
   "metadata": {},
   "source": [
    "`get_descriptors` can also be called without supplying a NEP model file, in which case a dummy NEP2 model will be generated and used. The dummy model has all parameter values set to 1. *Note that this model does not differentiate different atom species.* Thus, supplying your own trained NEP model file is recommended for most applications. "
   ]
  },
  {
   "cell_type": "code",
   "execution_count": 3,
   "id": "b83ea356",
   "metadata": {},
   "outputs": [
    {
     "name": "stdout",
     "output_type": "stream",
     "text": [
      "Shape of descriptors: (2, 52)\n"
     ]
    }
   ],
   "source": [
    "descriptors = get_descriptors(atoms)\n",
    "print(f'Shape of descriptors: {descriptors.shape}')"
   ]
  },
  {
   "cell_type": "markdown",
   "id": "153e995d",
   "metadata": {},
   "source": [
    "## CPU-only ASE calculator\n",
    "`nepy` implements a CPU-only ASE calculator to enable using trained NEP models on systems without a GPU. At the moment, the calculator only exposes functionality for calculating energies and forces. \n",
    "\n",
    "We use the same `Atoms` object as in the previous section, and create calculator instance by specifying the path to a NEP model file."
   ]
  },
  {
   "cell_type": "markdown",
   "id": "69b6c424",
   "metadata": {},
   "source": [
    "### Basic usage"
   ]
  },
  {
   "cell_type": "code",
   "execution_count": 4,
   "id": "0de36852",
   "metadata": {},
   "outputs": [],
   "source": [
    "from calorine.nepy import CPUNEP\n",
    "from ase.build import bulk\n",
    "\n",
    "atoms = bulk('PbTe', crystalstructure='rocksalt', a=6.7)\n",
    "calc = CPUNEP('PbTe_NEP3.txt')\n",
    "atoms.calc = calc"
   ]
  },
  {
   "cell_type": "markdown",
   "id": "49428bb0",
   "metadata": {},
   "source": [
    "With the system and calculator defined, we can now calculate the energies and forces:"
   ]
  },
  {
   "cell_type": "code",
   "execution_count": 5,
   "id": "a66a38ef",
   "metadata": {},
   "outputs": [
    {
     "name": "stdout",
     "output_type": "stream",
     "text": [
      "Energy (eV): -7.681070759348718\n",
      "Forces (eV/Å):\n",
      " [[ 2.70616862e-16  2.85239922e-17 -1.16068684e-16]\n",
      " [-2.70616862e-16 -2.85239922e-17  1.16068684e-16]]\n"
     ]
    }
   ],
   "source": [
    "print('Energy (eV):', atoms.get_potential_energy())\n",
    "print('Forces (eV/Å):\\n', atoms.get_forces())"
   ]
  },
  {
   "cell_type": "markdown",
   "id": "4d84a5cb",
   "metadata": {},
   "source": [
    "### Calculate energy-volume curve\n",
    "The capabilities of the CPU-only ASE calculator is similar to those of the GPU-based ASE calculator `GPUNEP` also implemented in `calorine`. As an example, here we use the CPU calculator to calculate the energy-volume curve with the PbTe potential, which is also done in the tutorial for the [GPU-based ASE calculator](https://calorine.materialsmodeling.org/tutorials/ase_calculator.html)."
   ]
  },
  {
   "cell_type": "code",
   "execution_count": 6,
   "id": "bed3480d",
   "metadata": {},
   "outputs": [
    {
     "data": {
      "text/plain": [
       "Text(0, 0.5, 'Energy (eV/atom)')"
      ]
     },
     "execution_count": 6,
     "metadata": {},
     "output_type": "execute_result"
    },
    {
     "data": {
      "image/png": "[encoded data removed]",
      "text/plain": [
       "<Figure size 432x288 with 1 Axes>"
      ]
     },
     "metadata": {
      "needs_background": "light"
     },
     "output_type": "display_data"
    }
   ],
   "source": [
    "%matplotlib inline\n",
    "import numpy as np\n",
    "import matplotlib.pyplot as plt\n",
    "\n",
    "energies = []\n",
    "volumes = []\n",
    "\n",
    "atoms_copy = atoms.copy()\n",
    "original_cell = atoms.cell.copy()\n",
    "\n",
    "atoms_copy.calc = calc\n",
    "\n",
    "for scale in np.arange(0.9, 1.11, 0.01):\n",
    "    atoms_copy.set_cell(scale * original_cell, scale_atoms=True)\n",
    "    volumes.append(atoms_copy.get_volume())\n",
    "    energies.append(atoms_copy.get_potential_energy() / len(atoms_copy))\n",
    "\n",
    "fig, ax = plt.subplots()\n",
    "ax.plot(volumes, energies, '-o')\n",
    "ax.set_xlabel('Volume (Å^3)')\n",
    "ax.set_ylabel('Energy (eV/atom)')"
   ]
  }
 ],
 "metadata": {
  "kernelspec": {
   "display_name": "Python 3.8.10 64-bit ('imin': venv)",
   "language": "python",
   "name": "python3"
  },
  "language_info": {
   "codemirror_mode": {
    "name": "ipython",
    "version": 3
   },
   "file_extension": ".py",
   "mimetype": "text/x-python",
   "name": "python",
   "nbconvert_exporter": "python",
   "pygments_lexer": "ipython3",
   "version": "3.8.10"
  },
  "vscode": {
   "interpreter": {
    "hash": "6be099dd3823815779ed5b2d986ab000320f08fb94733d934e13608f08061690"
   }
  }
 },
 "nbformat": 4,
 "nbformat_minor": 5
}
