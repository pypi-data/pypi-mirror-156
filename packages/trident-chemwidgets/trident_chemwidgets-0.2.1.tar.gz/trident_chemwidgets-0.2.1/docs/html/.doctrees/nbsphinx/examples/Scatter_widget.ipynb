{
 "cells": [
  {
   "cell_type": "markdown",
   "id": "7d79e1a1-c367-45be-bf44-215e8e6ddd64",
   "metadata": {
    "tags": []
   },
   "source": [
    "# Using the Scatter widget"
   ]
  },
  {
   "cell_type": "markdown",
   "id": "d2b0b351-9385-4b88-a252-b47ad19bfe62",
   "metadata": {},
   "source": [
    "We first import the `trident_chemwidgets` and the `pandas` lib to load our csv dataset."
   ]
  },
  {
   "cell_type": "code",
   "execution_count": 1,
   "id": "d2bbcd65-b38e-436f-8f37-fd248d01e95f",
   "metadata": {
    "execution": {
     "iopub.execute_input": "2022-06-16T19:55:12.524024Z",
     "iopub.status.busy": "2022-06-16T19:55:12.523694Z",
     "iopub.status.idle": "2022-06-16T19:55:12.809265Z",
     "shell.execute_reply": "2022-06-16T19:55:12.808364Z"
    }
   },
   "outputs": [],
   "source": [
    "import trident_chemwidgets as tcw\n",
    "import pandas as pd"
   ]
  },
  {
   "cell_type": "code",
   "execution_count": 2,
   "id": "58c4d403-6d8f-4d25-a39d-5a16c95a8340",
   "metadata": {
    "execution": {
     "iopub.execute_input": "2022-06-16T19:55:12.813441Z",
     "iopub.status.busy": "2022-06-16T19:55:12.812907Z",
     "iopub.status.idle": "2022-06-16T19:55:12.899957Z",
     "shell.execute_reply": "2022-06-16T19:55:12.899272Z"
    }
   },
   "outputs": [
    {
     "data": {
      "text/html": [
       "<div>\n",
       "<style scoped>\n",
       "    .dataframe tbody tr th:only-of-type {\n",
       "        vertical-align: middle;\n",
       "    }\n",
       "\n",
       "    .dataframe tbody tr th {\n",
       "        vertical-align: top;\n",
       "    }\n",
       "\n",
       "    .dataframe thead th {\n",
       "        text-align: right;\n",
       "    }\n",
       "</style>\n",
       "<table border=\"1\" class=\"dataframe\">\n",
       "  <thead>\n",
       "    <tr style=\"text-align: right;\">\n",
       "      <th></th>\n",
       "      <th>zinc_id</th>\n",
       "      <th>smiles</th>\n",
       "      <th>mwt</th>\n",
       "      <th>logp</th>\n",
       "      <th>heavy_atoms</th>\n",
       "      <th>n_rings</th>\n",
       "      <th>heteroatoms</th>\n",
       "      <th>tpsa</th>\n",
       "      <th>hacceptors</th>\n",
       "      <th>hdonors</th>\n",
       "      <th>rotatable_bonds</th>\n",
       "    </tr>\n",
       "  </thead>\n",
       "  <tbody>\n",
       "    <tr>\n",
       "      <th>0</th>\n",
       "      <td>ZINC000000000007</td>\n",
       "      <td>C=CCc1ccc(OCC(=O)N(CC)CC)c(OC)c1</td>\n",
       "      <td>277.364</td>\n",
       "      <td>2.6709</td>\n",
       "      <td>20</td>\n",
       "      <td>1</td>\n",
       "      <td>4</td>\n",
       "      <td>38.77</td>\n",
       "      <td>3</td>\n",
       "      <td>0</td>\n",
       "      <td>8</td>\n",
       "    </tr>\n",
       "    <tr>\n",
       "      <th>1</th>\n",
       "      <td>ZINC000000000010</td>\n",
       "      <td>C[C@@]1(c2ccccc2)OC(C(=O)O)=CC1=O</td>\n",
       "      <td>218.208</td>\n",
       "      <td>1.4696</td>\n",
       "      <td>16</td>\n",
       "      <td>2</td>\n",
       "      <td>4</td>\n",
       "      <td>63.60</td>\n",
       "      <td>3</td>\n",
       "      <td>1</td>\n",
       "      <td>2</td>\n",
       "    </tr>\n",
       "    <tr>\n",
       "      <th>2</th>\n",
       "      <td>ZINC000000000011</td>\n",
       "      <td>COc1cc(Cc2cnc(N)nc2N)cc(OC)c1N(C)C</td>\n",
       "      <td>303.366</td>\n",
       "      <td>1.3150</td>\n",
       "      <td>22</td>\n",
       "      <td>2</td>\n",
       "      <td>7</td>\n",
       "      <td>99.52</td>\n",
       "      <td>7</td>\n",
       "      <td>2</td>\n",
       "      <td>5</td>\n",
       "    </tr>\n",
       "    <tr>\n",
       "      <th>3</th>\n",
       "      <td>ZINC000000000012</td>\n",
       "      <td>O=C(C[S@@](=O)C(c1ccccc1)c1ccccc1)NO</td>\n",
       "      <td>289.356</td>\n",
       "      <td>2.0301</td>\n",
       "      <td>20</td>\n",
       "      <td>2</td>\n",
       "      <td>5</td>\n",
       "      <td>66.40</td>\n",
       "      <td>3</td>\n",
       "      <td>2</td>\n",
       "      <td>5</td>\n",
       "    </tr>\n",
       "    <tr>\n",
       "      <th>4</th>\n",
       "      <td>ZINC000000000014</td>\n",
       "      <td>CC[C@H]1[C@H](O)N2[C@H]3C[C@@]45c6ccccc6N(C)[C...</td>\n",
       "      <td>326.440</td>\n",
       "      <td>1.5545</td>\n",
       "      <td>24</td>\n",
       "      <td>12</td>\n",
       "      <td>4</td>\n",
       "      <td>46.94</td>\n",
       "      <td>4</td>\n",
       "      <td>2</td>\n",
       "      <td>1</td>\n",
       "    </tr>\n",
       "  </tbody>\n",
       "</table>\n",
       "</div>"
      ],
      "text/plain": [
       "            zinc_id                                             smiles  \\\n",
       "0  ZINC000000000007                   C=CCc1ccc(OCC(=O)N(CC)CC)c(OC)c1   \n",
       "1  ZINC000000000010                  C[C@@]1(c2ccccc2)OC(C(=O)O)=CC1=O   \n",
       "2  ZINC000000000011                 COc1cc(Cc2cnc(N)nc2N)cc(OC)c1N(C)C   \n",
       "3  ZINC000000000012               O=C(C[S@@](=O)C(c1ccccc1)c1ccccc1)NO   \n",
       "4  ZINC000000000014  CC[C@H]1[C@H](O)N2[C@H]3C[C@@]45c6ccccc6N(C)[C...   \n",
       "\n",
       "       mwt    logp  heavy_atoms  n_rings  heteroatoms   tpsa  hacceptors  \\\n",
       "0  277.364  2.6709           20        1            4  38.77           3   \n",
       "1  218.208  1.4696           16        2            4  63.60           3   \n",
       "2  303.366  1.3150           22        2            7  99.52           7   \n",
       "3  289.356  2.0301           20        2            5  66.40           3   \n",
       "4  326.440  1.5545           24       12            4  46.94           4   \n",
       "\n",
       "   hdonors  rotatable_bonds  \n",
       "0        0                8  \n",
       "1        1                2  \n",
       "2        2                5  \n",
       "3        2                5  \n",
       "4        2                1  "
      ]
     },
     "execution_count": 2,
     "metadata": {},
     "output_type": "execute_result"
    }
   ],
   "source": [
    "# First we import our dataset with pandas\n",
    "dataset = pd.read_csv('https://raw.githubusercontent.com/tridentbio/trident-chemwidgets/master/examples/zinc_subset.csv')\n",
    "dataset.head()"
   ]
  },
  {
   "cell_type": "markdown",
   "id": "21807b51-ca88-4cb2-ac98-51c9865819da",
   "metadata": {},
   "source": [
    "Once we have our data, we can use the Histogram widget to display an interactive Histogram that we can use to explore and split or subset our data set. The Histogram widget accepts the following keyword arugements:\n",
    "\n",
    "- `data`: the dataset in pandas data frame format\n",
    "- `smiles`: the name of the column containing the molecular structure in SMILES format\n",
    "- `x`: the name of the column to plot along the x-axis\n",
    "- `y`: the name of the column to plot along the x-axis\n",
    "- `x_label`: (optional) the x-axis label to display, defaults to the string specified by `x` if a label is not provided\n",
    "- `y_label`: (optional) the y-axis label to display, defaults to the string specified by `y` if a label is not provided"
   ]
  },
  {
   "cell_type": "code",
   "execution_count": 3,
   "id": "6afe53c3-5913-483b-84fd-e906204c6999",
   "metadata": {
    "execution": {
     "iopub.execute_input": "2022-06-16T19:55:12.903501Z",
     "iopub.status.busy": "2022-06-16T19:55:12.903263Z",
     "iopub.status.idle": "2022-06-16T19:55:12.912589Z",
     "shell.execute_reply": "2022-06-16T19:55:12.911762Z"
    }
   },
   "outputs": [],
   "source": [
    "# Now we can use the scatter using the mwt as x axis and logp as y\n",
    "scatter = tcw.Scatter(data=dataset, smiles='smiles', x='mwt', y='logp', x_label='Molecular Weight', y_label='logP')\n",
    "# scatter # Uncomment this line to run locally"
   ]
  },
  {
   "cell_type": "markdown",
   "id": "c7df98ad",
   "metadata": {},
   "source": [
    "<div align='center'>\n",
    "<img src='https://raw.githubusercontent.com/tridentbio/trident-chemwidgets/master/examples/gifs/scatter_demo_small.gif'/>\n",
    "</div>"
   ]
  },
  {
   "cell_type": "markdown",
   "id": "7da8627b-2a23-47e9-aae0-fc493b6e0298",
   "metadata": {},
   "source": [
    "In the example above, you have several ways to visualize the structures present in the underlying plot data. First, you can hover over any point in the plot and a tooltip with the structure will appear. This can be usefull for identifying outliers in your data set. \n",
    "\n",
    "You can also click and drag anywhere in the plot body to select a subset of the data. Your selected datapoints will be highlighted on the plot as colored points in a gray box. If you click the `SHOW STRUCTURES` button after you have selected the data points, a gallery of the molecular structures will be displayed to the right of the plot. If you then click `SAVE SELECTION`, the selected datapoints will be saved to an internal variable called `selection` that can be accessed as below. You do not need to click `SHOW STRUCTURES` before clicking `SAVE SELECTION`, though the gallery of selected structures will be displayed once `SAVE SELECTION` is clicked."
   ]
  }
 ],
 "metadata": {
  "kernelspec": {
   "display_name": "Python 3 (ipykernel)",
   "language": "python",
   "name": "python3"
  },
  "language_info": {
   "codemirror_mode": {
    "name": "ipython",
    "version": 3
   },
   "file_extension": ".py",
   "mimetype": "text/x-python",
   "name": "python",
   "nbconvert_exporter": "python",
   "pygments_lexer": "ipython3",
   "version": "3.9.13"
  },
  "widgets": {
   "application/vnd.jupyter.widget-state+json": {
    "state": {
     "17b9c5f70f43433c8f6168925b4790f9": {
      "model_module": "@jupyter-widgets/base",
      "model_module_version": "1.2.0",
      "model_name": "LayoutModel",
      "state": {
       "_model_module": "@jupyter-widgets/base",
       "_model_module_version": "1.2.0",
       "_model_name": "LayoutModel",
       "_view_count": null,
       "_view_module": "@jupyter-widgets/base",
       "_view_module_version": "1.2.0",
       "_view_name": "LayoutView",
       "align_content": null,
       "align_items": null,
       "align_self": null,
       "border": null,
       "bottom": null,
       "display": null,
       "flex": null,
       "flex_flow": null,
       "grid_area": null,
       "grid_auto_columns": null,
       "grid_auto_flow": null,
       "grid_auto_rows": null,
       "grid_column": null,
       "grid_gap": null,
       "grid_row": null,
       "grid_template_areas": null,
       "grid_template_columns": null,
       "grid_template_rows": null,
       "height": null,
       "justify_content": null,
       "justify_items": null,
       "left": null,
       "margin": null,
       "max_height": null,
       "max_width": null,
       "min_height": null,
       "min_width": null,
       "object_fit": null,
       "object_position": null,
       "order": null,
       "overflow": null,
       "overflow_x": null,
       "overflow_y": null,
       "padding": null,
       "right": null,
       "top": null,
       "visibility": null,
       "width": null
      }
     },
     "980e1bdd15834c3fbddb5563ded01e4e": {
      "model_module": "trident-chemwidgets",
      "model_module_version": "^0.1.0",
      "model_name": "ScatterModel",
      "state": {
       "_dom_classes": [],
       "_model_module": "trident-chemwidgets",
       "_model_module_version": "^0.1.0",
       "_model_name": "ScatterModel",
       "_view_count": null,
       "_view_module": "trident-chemwidgets",
       "_view_module_version": "^0.1.0",
       "_view_name": "ScatterView",
       "data": {
        "points": [
         {
          "index": 0,
          "smiles": "C=CCc1ccc(OCC(=O)N(CC)CC)c(OC)c1",
          "x": 277.3639999999999,
          "y": 2.6709000000000005
         },
         {
          "index": 1,
          "smiles": "C[C@@]1(c2ccccc2)OC(C(=O)O)=CC1=O",
          "x": 218.208,
          "y": 1.4696
         },
         {
          "index": 2,
          "smiles": "COc1cc(Cc2cnc(N)nc2N)cc(OC)c1N(C)C",
          "x": 303.36600000000004,
          "y": 1.3149999999999995
         },
         {
          "index": 3,
          "smiles": "O=C(C[S@@](=O)C(c1ccccc1)c1ccccc1)NO",
          "x": 289.356,
          "y": 2.0301
         },
         {
          "index": 4,
          "smiles": "CC[C@H]1[C@H](O)N2[C@H]3C[C@@]45c6ccccc6N(C)[C@H]4[C@@H]2C[C@@H]1[C@@H]3[C@H]5O",
          "x": 326.44000000000005,
          "y": 1.5545
         },
         {
          "index": 5,
          "smiles": "C[C@@H](C(=O)O)N(CCCl)CCCl",
          "x": 214.092,
          "y": 1.2391
         },
         {
          "index": 6,
          "smiles": "CC1(C)O[C@H]2C[C@@H]3[C@@H]4C[C@H](F)C5=CC(=O)C=C[C@]5(C)[C@]4(F)[C@H](O)C[C@]3(C)[C@@]2(C(=O)CO)O1",
          "x": 452.49400000000026,
          "y": 2.366800000000001
         },
         {
          "index": 7,
          "smiles": "CCC[S@](=O)c1ccc2[nH]/c(=N\\C(=O)OC)[nH]c2c1",
          "x": 281.337,
          "y": 1.6807
         },
         {
          "index": 8,
          "smiles": "C=CCN1C(=O)[C@@H](CC(C)C)NC1=S",
          "x": 212.318,
          "y": 1.3037999999999998
         },
         {
          "index": 9,
          "smiles": "C=CC[C@H]1CN(C)CC[C@@]1(OC(=O)CC)c1ccccc1",
          "x": 287.403,
          "y": 3.3629000000000024
         },
         {
          "index": 10,
          "smiles": "C=C(C)CNc1ccc([C@H](C)C(=O)O)cc1",
          "x": 219.284,
          "y": 2.8627
         },
         {
          "index": 11,
          "smiles": "C=CCc1ccccc1OC[C@H](O)CNC(C)C",
          "x": 249.354,
          "y": 2.1528
         },
         {
          "index": 12,
          "smiles": "O[C@@H]1C=C2CCN3Cc4cc5c(cc4[C@H]([C@H]1O)[C@H]23)OCO5",
          "x": 287.3150000000001,
          "y": 0.7485999999999999
         },
         {
          "index": 13,
          "smiles": "CC1(C)O[C@H]2C[C@H]3[C@@H]4C[C@H](F)C5=CC(=O)C=C[C@]5(C)[C@]4(F)[C@H](O)C[C@@]3(C)[C@]2(C(=O)CO)O1",
          "x": 452.49400000000026,
          "y": 2.366800000000001
         },
         {
          "index": 14,
          "smiles": "CC1(C)O[C@H]2C[C@@H]3[C@@H]4C[C@H](F)C5=CC(=O)C=C[C@]5(C)[C@]4(F)[C@H](O)C[C@@]3(C)[C@]2(C(=O)CO)O1",
          "x": 452.49400000000026,
          "y": 2.366800000000001
         },
         {
          "index": 15,
          "smiles": "N[C@@H](CCc1ccc(N(CCCl)CCCl)cc1)C(=O)O",
          "x": 319.232,
          "y": 2.3151
         },
         {
          "index": 16,
          "smiles": "Nc1ccc2c(c1)C(=O)N[C@H](CCCl)O2",
          "x": 226.663,
          "y": 1.346
         },
         {
          "index": 17,
          "smiles": "C[C@@H](CC(C(N)=O)(c1ccccc1)c1ccccc1)N(C)C",
          "x": 296.4140000000001,
          "y": 2.7982000000000014
         },
         {
          "index": 18,
          "smiles": "Cc1c(NC(=O)[C@H](C)N(C)C)c(=O)n(-c2ccccc2)n1C",
          "x": 302.37800000000004,
          "y": 1.3730199999999997
         },
         {
          "index": 19,
          "smiles": "CC[C@@H](C)NC[C@@H](O)c1ccc(N)cc1",
          "x": 208.305,
          "y": 1.6903
         },
         {
          "index": 20,
          "smiles": "CC(C)CCO[C@H](CN1CCCC1)c1ccccc1",
          "x": 261.40899999999993,
          "y": 3.886200000000003
         },
         {
          "index": 21,
          "smiles": "O=C(O)[C@@H](O)c1ccccc1",
          "x": 152.149,
          "y": 0.8046
         },
         {
          "index": 22,
          "smiles": "CC[C@](C)(CN(C)C)OC(=O)c1ccccc1",
          "x": 235.327,
          "y": 2.5737000000000005
         },
         {
          "index": 23,
          "smiles": "CC(C)(C)NC[C@@H](O)COc1ccccc1NC(=O)c1ccco1",
          "x": 332.4000000000001,
          "y": 2.659700000000001
         },
         {
          "index": 24,
          "smiles": "C[C@]12Cc3conc3C[C@H]1CC[C@@H]1[C@@H]2CC[C@]2(C)[C@@H]1CC[C@]2(C)O",
          "x": 329.4840000000001,
          "y": 4.3830000000000044
         },
         {
          "index": 25,
          "smiles": "COc1ccc2c(c1)C[C@@H](C)N(CCc1ccc(N)cc1)CC2",
          "x": 310.4410000000001,
          "y": 3.309200000000001
         },
         {
          "index": 26,
          "smiles": "COc1ccc(C(=O)c2ccc3n2CC[C@@H]3C(=O)O)cc1",
          "x": 285.299,
          "y": 2.2996
         },
         {
          "index": 27,
          "smiles": "C1=CN2C[C@@H](c3ccccc3)N=C2S1",
          "x": 202.282,
          "y": 2.617300000000001
         },
         {
          "index": 28,
          "smiles": "Cc1ccc(SC[C@H](S)CS)cc1",
          "x": 230.42300000000003,
          "y": 3.3153200000000016
         },
         {
          "index": 29,
          "smiles": "C=CCc1cc(OC)c2c(c1OC)OCO2",
          "x": 222.23999999999992,
          "y": 2.161
         },
         {
          "index": 30,
          "smiles": "CN1CCN2c3ccccc3Cn3cccc3[C@@H]2C1",
          "x": 253.349,
          "y": 2.3429
         },
         {
          "index": 31,
          "smiles": "Cc1ccccc1NC(=O)[C@H](C)N1CCCC1",
          "x": 232.327,
          "y": 2.4178200000000007
         },
         {
          "index": 32,
          "smiles": "COc1cccc2c1cc([N+](=O)[O-])c1c(C(=O)O)cc3c(c12)OCO3",
          "x": 341.2750000000001,
          "y": 3.336700000000002
         },
         {
          "index": 33,
          "smiles": "CC(=O)Oc1ccccc1C(=O)O",
          "x": 180.159,
          "y": 1.3101
         },
         {
          "index": 34,
          "smiles": "C[C@H](C(=O)O)c1ccc(-c2ccsc2)cc1",
          "x": 232.304,
          "y": 3.603200000000002
         },
         {
          "index": 35,
          "smiles": "CN1[C@H]2CC[C@@H]1CC(OC(=O)[C@@](C)(CO)c1ccccc1)C2",
          "x": 303.40200000000004,
          "y": 2.1049999999999995
         },
         {
          "index": 36,
          "smiles": "CN1[C@H]2CC[C@@H]1CC(OC(=O)[C@H](CO)c1ccccc1)C2",
          "x": 289.37500000000006,
          "y": 1.9309
         },
         {
          "index": 37,
          "smiles": "C[N+]1([O-])[C@H]2CC[C@@H]1CC(OC(=O)[C@H](CO)c1ccccc1)C2",
          "x": 305.374,
          "y": 1.9435
         },
         {
          "index": 38,
          "smiles": "NC[C@H](CC(=O)O)c1ccc(Cl)cc1",
          "x": 213.664,
          "y": 1.857
         },
         {
          "index": 39,
          "smiles": "CC(=O)c1cc2cccc(OC[C@H](O)CNC(C)C)c2o1",
          "x": 291.34700000000004,
          "y": 2.3731
         },
         {
          "index": 40,
          "smiles": "Cc1cccc2c1Oc1ccccc1[C@@]1(O)CCN(C)C[C@H]21",
          "x": 295.38200000000006,
          "y": 3.4076200000000023
         },
         {
          "index": 41,
          "smiles": "O=C(O)c1ccc(N[C@H]2OC[C@@H](O)[C@H](O)[C@H]2O)cc1",
          "x": 269.253,
          "y": -0.7643000000000009
         },
         {
          "index": 42,
          "smiles": "C[C@H](NNC(=O)c1ccccc1)c1ccccc1",
          "x": 240.306,
          "y": 2.682200000000001
         },
         {
          "index": 43,
          "smiles": "C[C@H](C(=O)O)c1ccc2oc(-c3ccc(Cl)cc3)nc2c1",
          "x": 301.729,
          "y": 4.336300000000002
         },
         {
          "index": 44,
          "smiles": "CCc1oc2ccccc2c1C(=O)c1ccc(O)cc1",
          "x": 266.29599999999994,
          "y": 3.931800000000002
         },
         {
          "index": 45,
          "smiles": "CC(=O)O[C@H](c1ccc(Cl)c(Cl)c1)C(Cl)(Cl)Cl",
          "x": 336.429,
          "y": 4.967800000000001
         },
         {
          "index": 46,
          "smiles": "OC[C@@H](O)COc1nn(Cc2ccccc2)c2ccccc12",
          "x": 298.34200000000004,
          "y": 1.8165999999999995
         },
         {
          "index": 47,
          "smiles": "O=C(O[C@@H]1CN2CCC1CC2)c1ccccc1",
          "x": 231.295,
          "y": 1.9376000000000004
         },
         {
          "index": 48,
          "smiles": "O=C(c1ccccc1)[C@@H](O)c1ccccc1",
          "x": 212.248,
          "y": 2.602900000000001
         },
         {
          "index": 49,
          "smiles": "C[N+]1(C)CC[C@H](OC(=O)C(O)(c2ccccc2)c2ccccc2)C1",
          "x": 326.41600000000005,
          "y": 2.3144
         },
         {
          "index": 50,
          "smiles": "O=C(OCc1ccccc1)[C@@H](O)c1ccccc1",
          "x": 242.274,
          "y": 2.4634
         },
         {
          "index": 51,
          "smiles": "COc1c(O)cc2c(c1O)[C@H]1O[C@@H](CO)[C@H](O)[C@H](O)[C@H]1OC2=O",
          "x": 328.2730000000001,
          "y": -1.2006000000000006
         },
         {
          "index": 52,
          "smiles": "Cc1ccc2c(c1)CC(=O)c1cc([C@H](C)C(=O)O)ccc1O2",
          "x": 296.32200000000006,
          "y": 3.714220000000001
         },
         {
          "index": 53,
          "smiles": "CCO[C@H]1O[C@@H]2O[C@]3(C)CC[C@H]4[C@@H](C)CC[C@H]([C@@H]1C)[C@@]42OO3",
          "x": 312.406,
          "y": 3.230900000000002
         },
         {
          "index": 54,
          "smiles": "C[C@@H](C[N+](C)(C)C)OC(N)=O",
          "x": 161.22499999999997,
          "y": 0.1764
         },
         {
          "index": 55,
          "smiles": "C[N+](C)(C)CCO[C@H](Cc1ccccc1)c1ccccc1",
          "x": 284.423,
          "y": 3.693200000000002
         },
         {
          "index": 56,
          "smiles": "O=C(OCCN1CCCC1)[C@@]1(c2ccccc2)C[C@@H]2CC[C@H]1C2",
          "x": 313.44100000000014,
          "y": 3.3834000000000017
         },
         {
          "index": 57,
          "smiles": "C=CCC1=C(C)[C@@H](OC(=O)[C@H]2[C@@H](C=C(C)C)C2(C)C)CC1=O",
          "x": 302.41400000000004,
          "y": 4.002000000000003
         },
         {
          "index": 58,
          "smiles": "C[C@H](C(=O)O)c1nc(-c2ccc(Br)cc2)cs1",
          "x": 312.188,
          "y": 3.7607000000000017
         },
         {
          "index": 59,
          "smiles": "COc1cc(C[C@@H](C)N)c(OC)cc1Br",
          "x": 274.158,
          "y": 2.3560000000000008
         },
         {
          "index": 60,
          "smiles": "COc1ccc(C(=O)/C(Br)=C/C(=O)O)cc1",
          "x": 285.093,
          "y": 2.2413
         },
         {
          "index": 61,
          "smiles": "CN(C)CCO[C@H](c1ccccc1)c1ccc(Br)cc1",
          "x": 334.257,
          "y": 4.116700000000003
         },
         {
          "index": 62,
          "smiles": "CN(C)CC[C@@H](c1ccc(Br)cc1)c1ccccn1",
          "x": 319.246,
          "y": 3.9277000000000015
         },
         {
          "index": 63,
          "smiles": "CC(C)(C)NC[C@H](O)c1cc(Br)no1",
          "x": 263.135,
          "y": 1.8586
         },
         {
          "index": 64,
          "smiles": "CCOc1ccc(NC(=O)C[C@@H](C)O)cc1",
          "x": 223.272,
          "y": 1.7946999999999995
         },
         {
          "index": 65,
          "smiles": "Cc1ccc(OC[C@H](O)CNC(C)(C)C)c2oc(=O)ccc12",
          "x": 305.374,
          "y": 2.22922
         },
         {
          "index": 66,
          "smiles": "CC(C)(C)NC[C@@H](O)COc1ccccc1OC[C@@H]1CCCO1",
          "x": 323.4330000000001,
          "y": 2.3722000000000003
         },
         {
          "index": 67,
          "smiles": "CCc1cccc2cc([C@H](O)CNC(C)(C)C)oc12",
          "x": 261.36499999999995,
          "y": 3.4167000000000014
         },
         {
          "index": 68,
          "smiles": "COc1ccc2c(c1O)-c1c3c(cc4c1[C@H](C2)N(C)CC4)OCO3",
          "x": 325.36400000000015,
          "y": 2.881600000000001
         },
         {
          "index": 69,
          "smiles": "CC(C)(C)NC[C@@H](O)COc1ccccc1C#N",
          "x": 248.326,
          "y": 1.68608
         },
         {
          "index": 70,
          "smiles": "Cc1ccc(Cl)c(OC[C@@H](O)CNC(C)(C)C)c1",
          "x": 271.788,
          "y": 2.776220000000001
         },
         {
          "index": 71,
          "smiles": "CC(C)C(=O)Nc1cccc([C@@H]2CN3CCSC3=N2)c1",
          "x": 289.404,
          "y": 2.740600000000001
         },
         {
          "index": 72,
          "smiles": "CC[C@H](C(=O)O)c1ccc(-c2ccccc2)cc1",
          "x": 240.302,
          "y": 3.931800000000002
         },
         {
          "index": 73,
          "smiles": "CCCC(=O)c1cc(F)ccc1OC[C@H](O)CNC(C)(C)C",
          "x": 311.39700000000005,
          "y": 2.936300000000001
         },
         {
          "index": 74,
          "smiles": "CCOC(=O)NNc1ccc(N(CC)C[C@@H](C)O)nn1",
          "x": 283.332,
          "y": 0.7566999999999997
         },
         {
          "index": 75,
          "smiles": "O=C(O)[C@H]1CCc2cc(OCCn3ccnc3)ccc21",
          "x": 272.30400000000003,
          "y": 2.0765
         },
         {
          "index": 76,
          "smiles": "CC1(C)[C@H]2CC[C@]1(C)C(=O)[C@H]2Br",
          "x": 231.133,
          "y": 2.775100000000001
         },
         {
          "index": 77,
          "smiles": "NC(=O)N1c2ccccc2C2O[C@@H]2c2ccccc21",
          "x": 252.273,
          "y": 3.0294000000000016
         },
         {
          "index": 78,
          "smiles": "CN(C)CCO[C@@H](c1ccc(Cl)cc1)c1ccccn1",
          "x": 290.794,
          "y": 3.4026000000000023
         },
         {
          "index": 79,
          "smiles": "CN1C(=O)CN(C(N)=O)[C@H](c2ccccc2)c2cc(Cl)ccc21",
          "x": 329.7870000000001,
          "y": 2.7865
         },
         {
          "index": 80,
          "smiles": "CC(C)(C)NC[C@@H](O)c1ccc(O)c(NC(N)=O)c1",
          "x": 267.329,
          "y": 1.3043
         },
         {
          "index": 81,
          "smiles": "C#C[C@H](OC(N)=O)c1ccccc1",
          "x": 175.187,
          "y": 1.4562000000000002
         },
         {
          "index": 82,
          "smiles": "CC(C)OC(=O)c1cc2c(OC[C@H](O)CNC(C)(C)C)cccc2[nH]1",
          "x": 348.44300000000004,
          "y": 2.860900000000001
         },
         {
          "index": 83,
          "smiles": "CC(C)(C)NC[C@@H](O)COc1cccc2c1CCC(=O)N2",
          "x": 292.379,
          "y": 1.6990999999999998
         },
         {
          "index": 84,
          "smiles": "CCCC(=O)O[C@@H]1CN2CC[C@@H](O)[C@@H]2[C@H](O)[C@H]1O",
          "x": 259.302,
          "y": -1.131099999999999
         },
         {
          "index": 85,
          "smiles": "CN(C)[C@@](C)(CO)Cc1ccc(Cl)c(Cl)c1",
          "x": 262.18,
          "y": 2.8485000000000014
         },
         {
          "index": 86,
          "smiles": "CNC(=O)COc1ccccc1OC[C@H](O)CNC(C)(C)C",
          "x": 310.39400000000006,
          "y": 0.9391999999999994
         },
         {
          "index": 87,
          "smiles": "O=C(OCCN1CCCCCC1)[C@@H](c1ccsc1)C1CCCCC1",
          "x": 349.5400000000002,
          "y": 4.831200000000004
         },
         {
          "index": 88,
          "smiles": "CN1C(=O)CCS(=O)(=O)[C@H]1c1ccc(Cl)cc1",
          "x": 273.741,
          "y": 1.6155000000000002
         },
         {
          "index": 89,
          "smiles": "NC(=O)NC(=O)[C@@H](Cl)c1ccccc1",
          "x": 212.636,
          "y": 1.1614
         },
         {
          "index": 90,
          "smiles": "OC[C@@H](O)COc1ccc(Cl)cc1",
          "x": 202.63700000000003,
          "y": 1.072
         },
         {
          "index": 91,
          "smiles": "NC(=O)OC[C@@H](O)COc1ccc(Cl)cc1",
          "x": 245.662,
          "y": 1.1750000000000005
         },
         {
          "index": 92,
          "smiles": "CN(C)CCO[C@](C)(c1ccccc1)c1ccc(Cl)cc1",
          "x": 303.833,
          "y": 4.181700000000004
         },
         {
          "index": 93,
          "smiles": "O=C1N[C@H](CCCl)Oc2ccccc21",
          "x": 211.648,
          "y": 1.7638
         },
         {
          "index": 94,
          "smiles": "CN1C[C@@H](C[C@H](C#N)C(N)=O)C[C@@H]2c3cccc4[nH]cc(c34)C[C@H]21",
          "x": 322.41200000000003,
          "y": 2.1430799999999994
         },
         {
          "index": 95,
          "smiles": "C[C@H]1C[C@@H](OC(=O)[C@@H](C)O)CC(C)(C)C1",
          "x": 214.30499999999995,
          "y": 2.1252000000000004
         },
         {
          "index": 96,
          "smiles": "O[C@]1(c2cccc(Cl)c2)C2=NCCCN2c2ccccc21",
          "x": 298.773,
          "y": 3.198100000000001
         },
         {
          "index": 97,
          "smiles": "C[C@H](C(=O)O)c1ccc2c(c1)Cc1ccccc1-2",
          "x": 238.286,
          "y": 3.4459000000000017
         },
         {
          "index": 98,
          "smiles": "c1ccc(C2(c3ccccc3)C[C@@H]2C2=NCCN2)cc1",
          "x": 262.35599999999994,
          "y": 2.994300000000001
         },
         {
          "index": 99,
          "smiles": "C[C@H](CCN(C)C)Nc1cc(O)cc2cccnc12",
          "x": 259.353,
          "y": 2.692500000000001
         }
        ]
       },
       "hue_label": "",
       "hue_max": 0.0,
       "hue_min": 0.0,
       "hue_type": "",
       "layout": "IPY_MODEL_17b9c5f70f43433c8f6168925b4790f9",
       "savedSelected": [],
       "x_format_date_string": "",
       "x_is_date": false,
       "x_label": "Molecular Weight",
       "y_format_date_string": "",
       "y_is_date": false,
       "y_label": "logP"
      }
     }
    },
    "version_major": 2,
    "version_minor": 0
   }
  }
 },
 "nbformat": 4,
 "nbformat_minor": 5
}
