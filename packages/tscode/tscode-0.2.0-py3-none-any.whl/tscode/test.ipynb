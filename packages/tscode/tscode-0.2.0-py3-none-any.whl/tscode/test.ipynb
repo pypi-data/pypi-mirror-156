{
 "cells": [
  {
   "cell_type": "markdown",
   "metadata": {},
   "source": []
  },
  {
   "cell_type": "code",
   "execution_count": null,
   "metadata": {},
   "outputs": [],
   "source": [
    "import numpy as np\n",
    "from numba import njit\n",
    "import numba as nb"
   ]
  },
  {
   "cell_type": "code",
   "execution_count": null,
   "metadata": {},
   "outputs": [],
   "source": [
    "@njit\n",
    "def internal_mean(arr):\n",
    "    '''\n",
    "    same as np.mean(arr, axis=1), but jitted\n",
    "    since numba does not support kwargs in np.mean\n",
    "    '''\n",
    "    assert len(arr.shape) == 3\n",
    "    assert arr.shape[1] == 2\n",
    "\n",
    "    out = np.zeros((arr.shape[0], arr.shape[2]), dtype=arr.dtype)\n",
    "    for i, (v1, v2) in enumerate(arr):\n",
    "        out[i] = (v1 + v2) / 2\n",
    "\n",
    "    return out\n"
   ]
  },
  {
   "cell_type": "code",
   "execution_count": null,
   "metadata": {},
   "outputs": [],
   "source": [
    "from rmsd import kabsch_rotate\n",
    "from python_functions import rmsd_and_max\n",
    "from algebra import internal_mean, vec_mean\n",
    "\n",
    "@njit\n",
    "def rmsd_and_max_jit(P, Q):\n",
    "    '''\n",
    "    ** ADAPTED FROM THE PYTHON RMSD LIBRARY **\n",
    "\n",
    "    Rotate matrix P unto Q using Kabsch algorithm and calculate the RMSD.\n",
    "    Returns RMSD and max deviation.\n",
    "\n",
    "    Parameters\n",
    "    ----------\n",
    "    P : array\n",
    "        (N,D) matrix, where N is points and D is dimension.\n",
    "    Q : array\n",
    "        (N,D) matrix, where N is points and D is dimension.\n",
    "\n",
    "    Returns\n",
    "    -------\n",
    "    rmsd : float\n",
    "        root-mean squared deviation\n",
    "    max_delta : float\n",
    "        maximum deviation value\n",
    "    '''\n",
    "\n",
    "    Q -= vec_mean(Q)\n",
    "    P -= vec_mean(P)\n",
    "    P = kabsch_rotate_jit(P, Q)\n",
    "\n",
    "    diff = Q - P\n",
    "    rmsd = np.sqrt((diff * diff).sum() / len(diff))\n",
    "    max_delta = np.max(internal_mean(diff))\n",
    "\n",
    "    return rmsd, max_delta\n",
    "\n",
    "@njit\n",
    "def kabsch_rotate_jit(P, Q):\n",
    "    # Computation of the covariance matrix\n",
    "    C = np.dot(np.transpose(P), Q)\n",
    "\n",
    "    V, S, W = np.linalg.svd(C)\n",
    "    d = (np.linalg.det(V) * np.linalg.det(W)) < 0.0\n",
    "\n",
    "    if d:\n",
    "        S[-1] = -S[-1]\n",
    "        V[:, -1] = -V[:, -1]\n",
    "\n",
    "    # Create Rotation matrix U\n",
    "    U = np.dot(V, W)\n",
    "\n",
    "    return np.dot(P, U)\n"
   ]
  },
  {
   "cell_type": "code",
   "execution_count": null,
   "metadata": {},
   "outputs": [],
   "source": [
    "from algebra import internal_mean\n",
    "\n",
    "x = np.random.rand(10, 100, 3)\n",
    "a = np.mean(x, axis=1)\n",
    "b = internal_mean(x)\n",
    "np.allclose(a,b)"
   ]
  },
  {
   "cell_type": "code",
   "execution_count": 8,
   "metadata": {},
   "outputs": [
    {
     "data": {
      "text/plain": [
       "(9, 50, 3)"
      ]
     },
     "execution_count": 8,
     "metadata": {},
     "output_type": "execute_result"
    }
   ],
   "source": [
    "from cclib.io import ccread\n",
    "data = ccread(r'C:\\Users\\ehrma\\Desktop\\cool_structs\\Ph2PAla\\Ph2PAla_confs_opt.xyz')\n",
    "data.atomcoords.shape"
   ]
  },
  {
   "cell_type": "code",
   "execution_count": 16,
   "metadata": {},
   "outputs": [
    {
     "data": {
      "text/plain": [
       "[(0, (1.8525749981896213e-15, 3.4967619351230766e-15)),\n",
       " (1, (1.9522309294727476, 4.349269692010169)),\n",
       " (2, (1.950567457203451, 4.293812257739693)),\n",
       " (3, (1.3926570564185698, 4.3814557682398325)),\n",
       " (4, (1.4772331398625664, 4.305962040648202)),\n",
       " (5, (2.8575661817906037, 6.973886368538465)),\n",
       " (6, (3.5039995314367505, 7.149551801218124)),\n",
       " (7, (3.496796142112092, 7.1505970015359175)),\n",
       " (8, (3.4875753074003564, 8.969396529698514))]"
      ]
     },
     "execution_count": 16,
     "metadata": {},
     "output_type": "execute_result"
    }
   ],
   "source": [
    "r = [(i,rmsd_and_max(data.atomcoords[0], data.atomcoords[i])) for i in range(len(data.atomcoords))]\n",
    "r"
   ]
  },
  {
   "cell_type": "code",
   "execution_count": 18,
   "metadata": {},
   "outputs": [
    {
     "name": "stdout",
     "output_type": "stream",
     "text": [
      "keep 5/9\n"
     ]
    }
   ],
   "source": [
    "print(f'keep {len([i for i in r if i[1][0] < 2])}/{len(r)}')"
   ]
  },
  {
   "cell_type": "code",
   "execution_count": 22,
   "metadata": {},
   "outputs": [
    {
     "data": {
      "text/plain": [
       "[(0, array([2133.87886433, 4033.85175728, 4519.79219749])),\n",
       " (1, array([2108.10440921, 4100.0883652 , 4535.74187787])),\n",
       " (2, array([2133.75099027, 4017.2711705 , 4526.16978017])),\n",
       " (3, array([2082.10778038, 4160.35064935, 4540.05084272])),\n",
       " (4, array([2141.39031201, 3977.88204333, 4476.87732763])),\n",
       " (5, array([1902.57193096, 3745.32947845, 4970.9630804 ])),\n",
       " (6, array([1892.41180564, 3724.92135472, 4572.62959953])),\n",
       " (7, array([1909.48511256, 3702.47426642, 4564.52247149])),\n",
       " (8, array([1902.47378844, 3708.48279848, 4566.06758285]))]"
      ]
     },
     "execution_count": 22,
     "metadata": {},
     "output_type": "execute_result"
    }
   ],
   "source": [
    "from algebra import get_inertia_moments\n",
    "from pt import pt\n",
    "masses = np.array([pt[i].mass for i in data.atomnos])\n",
    "r = [(i,get_inertia_moments(data.atomcoords[i], masses)) for i in range(len(data.atomcoords))]\n",
    "r"
   ]
  },
  {
   "cell_type": "code",
   "execution_count": 29,
   "metadata": {},
   "outputs": [
    {
     "data": {
      "text/plain": [
       "[(0, 0.0),\n",
       " (1, 66.23660791267548),\n",
       " (2, 16.580586783055423),\n",
       " (3, 126.49889206717262),\n",
       " (4, 55.96971395089031),\n",
       " (5, 451.17088291074197),\n",
       " (6, 308.93040256764334),\n",
       " (7, 331.3774908658006),\n",
       " (8, 325.3689588073248)]"
      ]
     },
     "execution_count": 29,
     "metadata": {},
     "output_type": "execute_result"
    }
   ],
   "source": [
    "[(i,np.max(np.abs(a[1]-r[0][1]))) for i,a in enumerate(r)]"
   ]
  },
  {
   "cell_type": "code",
   "execution_count": 32,
   "metadata": {},
   "outputs": [
    {
     "data": {
      "text/plain": [
       "5343.761409555133"
      ]
     },
     "execution_count": 32,
     "metadata": {},
     "output_type": "execute_result"
    }
   ],
   "source": [
    "from algebra import center_of_mass\n",
    "def MOI(coords, masses):\n",
    "    coords -= center_of_mass(coords, masses)\n",
    "    return np.sum([masses[i]*np.linalg.norm(coords[i])**2 for i in range(len(coords))])\n",
    "\n",
    "MOI(data.atomcoords[0], masses)"
   ]
  },
  {
   "cell_type": "code",
   "execution_count": 33,
   "metadata": {},
   "outputs": [
    {
     "data": {
      "text/plain": [
       "[(0, 0.0),\n",
       " (1, 28.205916583229737),\n",
       " (2, 5.165439083692945),\n",
       " (3, 47.49322667178694),\n",
       " (4, 45.68656807037496),\n",
       " (5, 34.329164649966515),\n",
       " (6, 248.78002961179027),\n",
       " (7, 255.52048432172978),\n",
       " (8, 255.2493246734457)]"
      ]
     },
     "execution_count": 33,
     "metadata": {},
     "output_type": "execute_result"
    }
   ],
   "source": [
    "r = [(i,MOI(data.atomcoords[i], masses)) for i in range(len(data.atomcoords))]\n",
    "[(i,np.max(np.abs(a[1]-r[0][1]))) for i,a in enumerate(r)]"
   ]
  },
  {
   "cell_type": "code",
   "execution_count": 1,
   "metadata": {},
   "outputs": [
    {
     "data": {
      "image/png": "[encoded data removed]",
      "text/plain": [
       "<Figure size 432x288 with 1 Axes>"
      ]
     },
     "metadata": {},
     "output_type": "display_data"
    }
   ],
   "source": [
    "import networkx as nx\n",
    "edges = [(7, 7), (7, 9), (7, 13), (7, 6), (9, 9), (9, 10), (9, 31), (10, 10), (10, 11), (10, 32), (11, 11), (11, 12), (11, 33), (12, 12), (12, 13), (12, 34), (13, 13), (13, 35), (31, 31), (32, 32), (33, 33), (34, 34), (35, 35)]\n",
    "G = nx.Graph(edges)\n",
    "nx.draw(G, with_labels=True)"
   ]
  },
  {
   "cell_type": "code",
   "execution_count": 25,
   "metadata": {},
   "outputs": [
    {
     "data": {
      "text/plain": [
       "{7: 6,\n",
       " 9: 6,\n",
       " 13: 6,\n",
       " 6: 15,\n",
       " 10: 6,\n",
       " 31: 1,\n",
       " 11: 6,\n",
       " 32: 1,\n",
       " 12: 6,\n",
       " 33: 1,\n",
       " 34: 1,\n",
       " 35: 1}"
      ]
     },
     "execution_count": 25,
     "metadata": {},
     "output_type": "execute_result"
    }
   ],
   "source": [
    "d = {}\n",
    "for i in (31,32,33,34,35):\n",
    "    d[i] = 1\n",
    "for i in (7,9,10,11,12,13):\n",
    "    d[i] = 6\n",
    "d[6] = 15\n",
    "d[345] = 45\n",
    "nx.set_node_attributes(G, d, 'atomnos')\n",
    "# G.nodes[6]['atomnos']\n",
    "nx.get_node_attributes(G, 'atomnos')"
   ]
  },
  {
   "cell_type": "code",
   "execution_count": 3,
   "metadata": {},
   "outputs": [
    {
     "ename": "ValueError",
     "evalue": "list.remove(x): x not in list",
     "output_type": "error",
     "traceback": [
      "\u001b[1;31m---------------------------------------------------------------------------\u001b[0m",
      "\u001b[1;31mValueError\u001b[0m                                Traceback (most recent call last)",
      "\u001b[1;32m<ipython-input-3-b1d197e3b368>\u001b[0m in \u001b[0;36m<module>\u001b[1;34m\u001b[0m\n\u001b[0;32m      3\u001b[0m \u001b[1;32mfrom\u001b[0m \u001b[0mgraph_manipulations\u001b[0m \u001b[1;32mimport\u001b[0m \u001b[0mget_sp_n\u001b[0m\u001b[1;33m\u001b[0m\u001b[1;33m\u001b[0m\u001b[0m\n\u001b[0;32m      4\u001b[0m \u001b[1;32mfor\u001b[0m \u001b[0mnode\u001b[0m \u001b[1;32min\u001b[0m \u001b[0mG\u001b[0m\u001b[1;33m.\u001b[0m\u001b[0mnodes\u001b[0m\u001b[1;33m:\u001b[0m\u001b[1;33m\u001b[0m\u001b[1;33m\u001b[0m\u001b[0m\n\u001b[1;32m----> 5\u001b[1;33m     \u001b[0mprint\u001b[0m\u001b[1;33m(\u001b[0m\u001b[1;34mf'{node}: sp{get_sp_n(node, G)}'\u001b[0m\u001b[1;33m)\u001b[0m\u001b[1;33m\u001b[0m\u001b[1;33m\u001b[0m\u001b[0m\n\u001b[0m",
      "\u001b[1;32mc:\\Users\\ehrma\\Desktop\\Coding\\TSCoDe\\tscode\\graph_manipulations.py\u001b[0m in \u001b[0;36mget_sp_n\u001b[1;34m(index, graph)\u001b[0m\n\u001b[0;32m     83\u001b[0m         \u001b[1;36m16\u001b[0m\u001b[1;33m:\u001b[0m\u001b[1;33m{\u001b[0m\u001b[1;36m2\u001b[0m\u001b[1;33m:\u001b[0m\u001b[1;36m2\u001b[0m\u001b[1;33m,\u001b[0m \u001b[1;36m3\u001b[0m\u001b[1;33m:\u001b[0m\u001b[1;36m3\u001b[0m\u001b[1;33m,\u001b[0m \u001b[1;36m4\u001b[0m\u001b[1;33m:\u001b[0m\u001b[1;36m3\u001b[0m\u001b[1;33m}\u001b[0m\u001b[1;33m,\u001b[0m     \u001b[1;31m# S\u001b[0m\u001b[1;33m\u001b[0m\u001b[1;33m\u001b[0m\u001b[0m\n\u001b[0;32m     84\u001b[0m     }\n\u001b[1;32m---> 85\u001b[1;33m     \u001b[1;32mreturn\u001b[0m \u001b[0md\u001b[0m\u001b[1;33m[\u001b[0m\u001b[0mgraph\u001b[0m\u001b[1;33m.\u001b[0m\u001b[0mnodes\u001b[0m\u001b[1;33m[\u001b[0m\u001b[0mindex\u001b[0m\u001b[1;33m]\u001b[0m\u001b[1;33m[\u001b[0m\u001b[1;34m'atomnos'\u001b[0m\u001b[1;33m]\u001b[0m\u001b[1;33m]\u001b[0m\u001b[1;33m[\u001b[0m\u001b[0mlen\u001b[0m\u001b[1;33m(\u001b[0m\u001b[0mneighbors\u001b[0m\u001b[1;33m(\u001b[0m\u001b[0mgraph\u001b[0m\u001b[1;33m,\u001b[0m \u001b[0mindex\u001b[0m\u001b[1;33m)\u001b[0m\u001b[1;33m)\u001b[0m\u001b[1;33m]\u001b[0m\u001b[1;33m\u001b[0m\u001b[1;33m\u001b[0m\u001b[0m\n\u001b[0m\u001b[0;32m     86\u001b[0m \u001b[1;33m\u001b[0m\u001b[0m\n\u001b[0;32m     87\u001b[0m \u001b[1;32mdef\u001b[0m \u001b[0mis_amide_n\u001b[0m\u001b[1;33m(\u001b[0m\u001b[0mindex\u001b[0m\u001b[1;33m,\u001b[0m \u001b[0mgraph\u001b[0m\u001b[1;33m)\u001b[0m\u001b[1;33m:\u001b[0m\u001b[1;33m\u001b[0m\u001b[1;33m\u001b[0m\u001b[0m\n",
      "\u001b[1;32mc:\\Users\\ehrma\\Desktop\\Coding\\TSCoDe\\tscode\\graph_manipulations.py\u001b[0m in \u001b[0;36mneighbors\u001b[1;34m(graph, index)\u001b[0m\n\u001b[0;32m     55\u001b[0m \u001b[1;32mdef\u001b[0m \u001b[0mneighbors\u001b[0m\u001b[1;33m(\u001b[0m\u001b[0mgraph\u001b[0m\u001b[1;33m,\u001b[0m \u001b[0mindex\u001b[0m\u001b[1;33m)\u001b[0m\u001b[1;33m:\u001b[0m\u001b[1;33m\u001b[0m\u001b[1;33m\u001b[0m\u001b[0m\n\u001b[0;32m     56\u001b[0m     \u001b[0mneighbors\u001b[0m \u001b[1;33m=\u001b[0m \u001b[0mlist\u001b[0m\u001b[1;33m(\u001b[0m\u001b[1;33m[\u001b[0m\u001b[1;33m(\u001b[0m\u001b[0ma\u001b[0m\u001b[1;33m,\u001b[0m \u001b[0mb\u001b[0m\u001b[1;33m)\u001b[0m \u001b[1;32mfor\u001b[0m \u001b[0ma\u001b[0m\u001b[1;33m,\u001b[0m \u001b[0mb\u001b[0m \u001b[1;32min\u001b[0m \u001b[0mgraph\u001b[0m\u001b[1;33m.\u001b[0m\u001b[0madjacency\u001b[0m\u001b[1;33m(\u001b[0m\u001b[1;33m)\u001b[0m\u001b[1;33m]\u001b[0m\u001b[1;33m[\u001b[0m\u001b[0mindex\u001b[0m\u001b[1;33m]\u001b[0m\u001b[1;33m[\u001b[0m\u001b[1;36m1\u001b[0m\u001b[1;33m]\u001b[0m\u001b[1;33m.\u001b[0m\u001b[0mkeys\u001b[0m\u001b[1;33m(\u001b[0m\u001b[1;33m)\u001b[0m\u001b[1;33m)\u001b[0m\u001b[1;33m\u001b[0m\u001b[1;33m\u001b[0m\u001b[0m\n\u001b[1;32m---> 57\u001b[1;33m     \u001b[0mneighbors\u001b[0m\u001b[1;33m.\u001b[0m\u001b[0mremove\u001b[0m\u001b[1;33m(\u001b[0m\u001b[0mindex\u001b[0m\u001b[1;33m)\u001b[0m\u001b[1;33m\u001b[0m\u001b[1;33m\u001b[0m\u001b[0m\n\u001b[0m\u001b[0;32m     58\u001b[0m     \u001b[1;32mreturn\u001b[0m \u001b[0mneighbors\u001b[0m\u001b[1;33m\u001b[0m\u001b[1;33m\u001b[0m\u001b[0m\n\u001b[0;32m     59\u001b[0m \u001b[1;33m\u001b[0m\u001b[0m\n",
      "\u001b[1;31mValueError\u001b[0m: list.remove(x): x not in list"
     ]
    }
   ],
   "source": [
    "import os\n",
    "os.chdir(r'C:\\Users\\ehrma\\Desktop\\Coding\\TSCoDe')\n",
    "from graph_manipulations import get_sp_n\n",
    "for node in G.nodes:\n",
    "    print(f'{node}: sp{get_sp_n(node, G)}')"
   ]
  },
  {
   "cell_type": "code",
   "execution_count": 1,
   "metadata": {},
   "outputs": [],
   "source": [
    "from tscode.python_functions import prune_conformers, fast_score, rmsd_and_max\n",
    "from tscode.optimization_methods import prune_enantiomers\n",
    "from tscode.algebra import get_inertia_moments\n",
    "from tscode.pt import pt\n",
    "from cclib.io import ccread\n",
    "import numpy as np\n",
    "import networkx as nx\n",
    "import numba as nb\n",
    "\n",
    "def old(structures, atomnos):\n",
    "    for k in (5000, 2000, 1000, 500, 200, 100, 50, 20, 10, 5, 2, 1):\n",
    "        if k == 1 or 5*k < len(structures):\n",
    "            structures, mask = prune_conformers(structures, atomnos, max_rmsd=2, max_delta=2, k=k)\n",
    "    return structures, mask\n",
    "\n",
    "def new(structures, atomnos):\n",
    "    return new_prune_conformers(structures, atomnos, max_rmsd=2, max_delta=2)\n",
    "\n",
    "def new_prune_conformers(structures, atomnos, max_rmsd=0.5, max_delta=None):\n",
    "    '''\n",
    "    Group structures into k subgroups and remove the similar ones.\n",
    "    Similarity occurs for structures with both RMSD < max_rmsd and\n",
    "    maximum deviation < max_delta.\n",
    "    '''\n",
    "    # xxx=0\n",
    "    max_delta = max_rmsd * 2 if max_delta is None else max_delta\n",
    "\n",
    "    heavy_atoms = (atomnos != 1)\n",
    "    heavy_structures = np.array([structure[heavy_atoms] for structure in structures])\n",
    "\n",
    "    cache_set = set()\n",
    "    final_mask = np.ones(structures.shape[0], dtype=bool)\n",
    "    \n",
    "    for k in (5000, 2000, 1000, 500, 200, 100, 50, 20, 10, 5, 2, 1):\n",
    "        num_active_str = np.count_nonzero(final_mask)\n",
    "        \n",
    "        if k == 1 or 5*k < num_active_str:\n",
    "        # proceed only of there are at least five structures per group\n",
    "\n",
    "            d = len(structures) // k\n",
    "\n",
    "            for step in range(k):\n",
    "            # operating on each of the k subdivisions of the array\n",
    "                if step == k-1:\n",
    "                    l = len(range(d*step, num_active_str))\n",
    "                else:\n",
    "                    l = len(range(d*step, d*(step+1)))\n",
    "\n",
    "                similarity_mat = np.zeros((l, l))\n",
    "\n",
    "                for i_rel in range(l):\n",
    "                    for j_rel in range(i_rel+1,l):\n",
    "\n",
    "                        i_abs = i_rel+(d*step)\n",
    "                        j_abs = j_rel+(d*step)\n",
    "\n",
    "                        if (i_abs, j_abs) not in cache_set:\n",
    "                        # if we have already performed the comparison,\n",
    "                        # structures were not similar and we can skip them\n",
    "\n",
    "                            rmsd, max_dev = rmsd_and_max(heavy_structures[i_abs],\n",
    "                                                         heavy_structures[j_abs])\n",
    "\n",
    "                            if rmsd < max_rmsd and max_dev < max_delta:\n",
    "                                similarity_mat[i_rel,j_rel] = 1\n",
    "                                break\n",
    "                        # else:\n",
    "                        #     xxx+=1\n",
    "\n",
    "                for i_rel, j_rel in zip(*np.where(similarity_mat == False)):\n",
    "                    i_abs = i_rel+(d*step)\n",
    "                    j_abs = j_rel+(d*step)\n",
    "                    cache_set.add((i_abs, j_abs))\n",
    "                    # adding indexes of structures that are considered equal,\n",
    "                    # so as not to repeat computing their RMSD\n",
    "                    # Their index accounts for their position in the initial\n",
    "                    # array (absolute index)\n",
    "\n",
    "                matches = [(i,j) for i,j in zip(*np.where(similarity_mat))]\n",
    "                g = nx.Graph(matches)\n",
    "\n",
    "                subgraphs = [g.subgraph(c) for c in nx.connected_components(g)]\n",
    "                groups = [tuple(graph.nodes) for graph in subgraphs]\n",
    "\n",
    "                best_of_cluster = [sorted(group, key=lambda i: fast_score(structures[i]))[0] for group in groups]\n",
    "                # of each cluster, keep the structure that looks the best\n",
    "\n",
    "                rejects_sets = [set(a) - {b} for a, b in zip(groups, best_of_cluster)]\n",
    "                rejects = []\n",
    "                for s in rejects_sets:\n",
    "                    for i in s:\n",
    "                        rejects.append(i)\n",
    "\n",
    "                for i in rejects:\n",
    "                    abs_index = i + d*step\n",
    "                    final_mask[abs_index] = 0\n",
    "    # return xxx\n",
    "    return structures[final_mask], final_mask\n",
    "\n",
    "def new_prune_enantiomers(structures, atomnos, max_delta=10):\n",
    "    '''\n",
    "    Remove duplicate (enantiomeric) structures based on the\n",
    "    moments of inertia on principal axes. If all three MOI\n",
    "    are within max_delta from another structure, they are\n",
    "    classified as enantiomers and therefore only one of them\n",
    "    is kept.\n",
    "    '''\n",
    "\n",
    "    final_mask = np.ones(structures.shape[0], dtype=bool)\n",
    "    heavy_structures = np.array([structure[atomnos != 1] for structure in structures])\n",
    "    heavy_masses = np.array([pt[a].mass for a in atomnos if a != 1])\n",
    "           \n",
    "    for k in (5000, 2000, 1000, 500, 200, 100, 50, 20, 10, 5, 2, 1):\n",
    "        num_active_str = np.count_nonzero(final_mask)\n",
    "        \n",
    "        if k == 1 or 5*k < num_active_str:\n",
    "        # proceed only of there are at least five structures per group\n",
    "\n",
    "            d = len(structures) // k\n",
    "\n",
    "            for step in range(k):\n",
    "            # operating on each of the k subdivisions of the array\n",
    "                if step == k-1:\n",
    "                    structures_subset = heavy_structures[d*step:]\n",
    "                else:\n",
    "                    structures_subset = heavy_structures[d*step:d*(step+1)]\n",
    "\n",
    "                similarity_mat = get_moi_similarity_matrix_new(structures_subset, heavy_masses, max_delta=max_delta)\n",
    "\n",
    "                matches = [(i,j) for i,j in zip(*np.where(similarity_mat))]\n",
    "                g = nx.Graph(matches)\n",
    "\n",
    "                subgraphs = [g.subgraph(c) for c in nx.connected_components(g)]\n",
    "                groups = [tuple(graph.nodes) for graph in subgraphs]\n",
    "\n",
    "                best_of_cluster = [sorted(group, key=lambda i: fast_score(structures[i]))[0] for group in groups]\n",
    "                # of each cluster, keep the structure that looks the best\n",
    "\n",
    "                rejects_sets = [set(a) - {b} for a, b in zip(groups, best_of_cluster)]\n",
    "                rejects = []\n",
    "                for s in rejects_sets:\n",
    "                    for i in s:\n",
    "                        rejects.append(i)\n",
    "\n",
    "                for i in rejects:\n",
    "                    abs_index = i + d*step\n",
    "                    final_mask[abs_index] = 0\n",
    "                    \n",
    "    return structures[final_mask], final_mask\n",
    "\n",
    "@nb.njit\n",
    "def get_moi_similarity_matrix_new(structures, masses, max_delta=10):\n",
    "    ''''''\n",
    "    l = len(structures)\n",
    "    mat = np.zeros((l,l), dtype=nb.boolean)\n",
    "    for i in range(l):\n",
    "        im_i = get_inertia_moments(structures[i], masses)\n",
    "        for j in range(i+1,l):\n",
    "            im_j = get_inertia_moments(structures[j], masses)\n",
    "            delta = np.abs(im_i - im_j)\n",
    "            if np.all(delta < max_delta):\n",
    "                mat[i,j] = 1\n",
    "                break\n",
    "    return mat"
   ]
  },
  {
   "cell_type": "code",
   "execution_count": 2,
   "metadata": {},
   "outputs": [
    {
     "data": {
      "text/plain": [
       "(32, 102, 3)"
      ]
     },
     "execution_count": 2,
     "metadata": {},
     "output_type": "execute_result"
    }
   ],
   "source": [
    "data = ccread(r'C:\\Users\\ehrma\\Desktop\\TMGA_peptides\\P1_confs.xyz')\n",
    "data.atomcoords.shape"
   ]
  },
  {
   "cell_type": "code",
   "execution_count": 4,
   "metadata": {},
   "outputs": [],
   "source": [
    "n = 300"
   ]
  },
  {
   "cell_type": "code",
   "execution_count": 5,
   "metadata": {},
   "outputs": [
    {
     "data": {
      "text/plain": [
       "(32,)"
      ]
     },
     "execution_count": 5,
     "metadata": {},
     "output_type": "execute_result"
    }
   ],
   "source": [
    "_, a = old(data.atomcoords[0:n], data.atomnos)\n",
    "a.shape"
   ]
  },
  {
   "cell_type": "code",
   "execution_count": 6,
   "metadata": {},
   "outputs": [
    {
     "data": {
      "text/plain": [
       "(32,)"
      ]
     },
     "execution_count": 6,
     "metadata": {},
     "output_type": "execute_result"
    }
   ],
   "source": [
    "_, b = new(data.atomcoords[0:n], data.atomnos)\n",
    "b.shape"
   ]
  },
  {
   "cell_type": "code",
   "execution_count": 7,
   "metadata": {},
   "outputs": [
    {
     "data": {
      "text/plain": [
       "True"
      ]
     },
     "execution_count": 7,
     "metadata": {},
     "output_type": "execute_result"
    }
   ],
   "source": [
    "_, a = old(data.atomcoords[0:n], data.atomnos)\n",
    "_, b = new(data.atomcoords[0:n], data.atomnos)\n",
    "np.alltrue(a == b)"
   ]
  },
  {
   "cell_type": "code",
   "execution_count": 8,
   "metadata": {},
   "outputs": [
    {
     "name": "stdout",
     "output_type": "stream",
     "text": [
      "Kept 32/32\n"
     ]
    }
   ],
   "source": [
    "print(f'Kept {np.count_nonzero(b)}/{b.shape[0]}')"
   ]
  },
  {
   "cell_type": "code",
   "execution_count": 48,
   "metadata": {},
   "outputs": [
    {
     "name": "stdout",
     "output_type": "stream",
     "text": [
      "Cached 37934/90000\n"
     ]
    }
   ],
   "source": [
    "cached = new(data.atomcoords[0:n], data.atomnos)\n",
    "print(f'Cached {cached}/{n*n}')"
   ]
  },
  {
   "cell_type": "code",
   "execution_count": 9,
   "metadata": {},
   "outputs": [],
   "source": [
    "from tscode.algebra import get_moi_similarity_matrix\n",
    "def prune_enantiomers_light(structures, atomnos, max_delta=10):\n",
    "    '''\n",
    "    Remove duplicate (enantiomeric) structures based on the\n",
    "    moments of inertia on principal axes. If all three MOI\n",
    "    are within max_delta from another structure, they are\n",
    "    classified as enantiomers and therefore only one of them\n",
    "    is kept.\n",
    "    '''\n",
    "    heavy_structures = np.array([structure[atomnos != 1] for structure in structures])\n",
    "    heavy_masses = np.array([pt[a].mass for a in atomnos if a != 1])\n",
    "\n",
    "    matches = get_moi_similarity_matrix(heavy_structures, heavy_masses, max_delta=max_delta)\n",
    "\n",
    "    g = nx.Graph(matches)\n",
    "\n",
    "    subgraphs = [g.subgraph(c) for c in nx.connected_components(g)]\n",
    "    groups = [tuple(graph.nodes) for graph in subgraphs]\n",
    "\n",
    "    best_of_cluster = [group[0] for group in groups]\n",
    "\n",
    "    rejects_sets = [set(a) - {b} for a, b in zip(groups, best_of_cluster)]\n",
    "    rejects = []\n",
    "    for s in rejects_sets:\n",
    "        for i in s:\n",
    "            rejects.append(i)\n",
    "\n",
    "    mask = np.ones(structures.shape[0], dtype=bool)\n",
    "    for i in rejects:\n",
    "        mask[i] = False\n",
    "\n",
    "    return structures[mask], mask\n"
   ]
  },
  {
   "cell_type": "code",
   "execution_count": 18,
   "metadata": {},
   "outputs": [],
   "source": [
    "n = 2500"
   ]
  },
  {
   "cell_type": "code",
   "execution_count": 8,
   "metadata": {},
   "outputs": [
    {
     "name": "stdout",
     "output_type": "stream",
     "text": [
      "9.06 s ± 142 ms per loop (mean ± std. dev. of 7 runs, 1 loop each)\n"
     ]
    }
   ],
   "source": [
    "%timeit prune_enantiomers(data.atomcoords[0:n], data.atomnos)"
   ]
  },
  {
   "cell_type": "code",
   "execution_count": 6,
   "metadata": {},
   "outputs": [
    {
     "name": "stdout",
     "output_type": "stream",
     "text": [
      "11.5 s ± 314 ms per loop (mean ± std. dev. of 7 runs, 1 loop each)\n"
     ]
    }
   ],
   "source": [
    "%timeit new_prune_enantiomers(data.atomcoords[0:n], data.atomnos)"
   ]
  },
  {
   "cell_type": "code",
   "execution_count": 10,
   "metadata": {},
   "outputs": [
    {
     "name": "stdout",
     "output_type": "stream",
     "text": [
      "4.16 s ± 100 ms per loop (mean ± std. dev. of 7 runs, 1 loop each)\n"
     ]
    }
   ],
   "source": [
    "%timeit prune_enantiomers_light(data.atomcoords[0:n], data.atomnos)"
   ]
  },
  {
   "cell_type": "code",
   "execution_count": 16,
   "metadata": {},
   "outputs": [],
   "source": [
    "_ = prune_enantiomers(data.atomcoords[0:n], data.atomnos)"
   ]
  },
  {
   "cell_type": "code",
   "execution_count": 19,
   "metadata": {},
   "outputs": [],
   "source": [
    "_ = prune_enantiomers_light(data.atomcoords[0:n], data.atomnos)"
   ]
  },
  {
   "cell_type": "markdown",
   "metadata": {},
   "source": [
    "## Testing parallel augmentation/embedding"
   ]
  },
  {
   "cell_type": "code",
   "execution_count": 1,
   "metadata": {},
   "outputs": [
    {
     "name": "stdout",
     "output_type": "stream",
     "text": [
      "\n",
      "             ▁▁▁▁▁▁▁▁▁▁▁▁▁▁▁▁▁▁▁▁▁▁▁▁▁▁▁▁▁▁▁▁▁▁▁\n",
      "            ╱───────────────────────────────────╲\n",
      "           ╱▒░░░░░░░░░░░░░░░░░░░░░░░░░░░░░░░░░░░▒╲\n",
      "       ▒░░░░░░░░░░░░░░░░░░░░░░░░░░░░░░░░░░░░░░░░░░░░▒\n",
      "    ▒░░░░░░░░░░░░░░░░░░░░░░░░░░░░░░░░░░░░░░░░░░░░░░░░░░▒ \n",
      "   ▒░████████╗░██████╗░█████╗░░█████╗░██████╗░███████╗░░░▒\n",
      "   ▒░╚══██╔══╝██╔════╝██╔══██╗██╔══██╗██╔══██╗██╔════╝░░░▒ \n",
      "   ▒░░░░██║░░░╚█████╗░██║░░╚═╝██║░░██║██║░░██║█████╗░░░░░▒  \n",
      "   ▒░░░░██║░░░░╚═══██╗██║░░██╗██║░░██║██║░░██║██╔══╝░░░░░▒   \n",
      "    ▒░░░██║░░░██████╔╝╚█████╔╝╚█████╔╝██████╔╝███████╗░░░▒    \n",
      "   ╱ ▒░░╚═╝░░░╚═════╝░░╚════╝░░╚════╝░╚═════╝░╚══════╝░░▒ ╲\n",
      "  ╱   ▒░░░░░░░░░░░░░░░░░░░░░░░░░░░░░░░░░░░░░░░░░░░░░░░░▒   ╲\n",
      " ╱    ▒░░╔══════════════════════════════════════════╗░░▒    ╲\n",
      " ╲╲    ▒░║  Transition State Conformational Docker  ║░▒    ╱╱   \n",
      "  ╲╲   ▒░║        nicolo.tampellini@yale.edu        ║░▒   ╱╱    \n",
      "   ╲╲  ▒░║                                          ║░▒  ╱╱         \n",
      "    ╲╲ ▒░║     Version    >          0.1.1          ║░▒ ╱╱                                     \n",
      "     ╲╲▒░║      User      >           Nik           ║░▒╱╱                                       \n",
      "      ╲▒░║      Host      >       Nicolò-ASUS       ║░▒╱                                                     \n",
      "       ▒░║      Time      >    Tue Jun 21 22:28     ║░▒                 \n",
      "       ▒░╚══════════════════════════════════════════╝░▒                     \n",
      "        ▒░░░░░░░░░░░░░░░░░░░░░░░░░░░░░░░░░░░░░░░░░░░░▒                             \n",
      "          ╲╲ ▒░░░░░░░░░░░░░░░░░░░░░░░░░░░░░░░░░░▒ ╱╱\n",
      "           ╲╲▁▁▁▁▁▁▁▁▁▁▁▁▁▁▁▁▁▁▁▁▁▁▁▁▁▁▁▁▁▁▁▁▁▁▁▁╱╱                                        \n",
      "           \n"
     ]
    }
   ],
   "source": [
    "from tscode.embedder import Embedder\n",
    "\n",
    "embedder = Embedder(r'C:\\Users\\Nik\\Desktop\\nt383\\P1\\debug\\debug.txt')"
   ]
  },
  {
   "cell_type": "code",
   "execution_count": 2,
   "metadata": {},
   "outputs": [
    {
     "data": {
      "text/plain": [
       "(1000, 102, 3)"
      ]
     },
     "execution_count": 2,
     "metadata": {},
     "output_type": "execute_result"
    }
   ],
   "source": [
    "embedder.objects[0].atomcoords.shape"
   ]
  },
  {
   "cell_type": "code",
   "execution_count": 3,
   "metadata": {},
   "outputs": [
    {
     "data": {
      "text/plain": [
       "array([102])"
      ]
     },
     "execution_count": 3,
     "metadata": {},
     "output_type": "execute_result"
    }
   ],
   "source": [
    "from tscode.run import RunEmbedding\n",
    "import numpy as np\n",
    "embedder.structures = embedder.objects[0].atomcoords\n",
    "embedder.atomnos = embedder.objects[0].atomnos\n",
    "embedder.constrained_indexes = np.array([[] for _ in embedder.structures])\n",
    "\n",
    "RE = RunEmbedding(embedder)\n",
    "RE.options.rmsd = 0.5\n",
    "RE.options\n",
    "RE.ids"
   ]
  },
  {
   "cell_type": "code",
   "execution_count": 4,
   "metadata": {},
   "outputs": [
    {
     "name": "stdout",
     "output_type": "stream",
     "text": [
      "\n",
      "> Torsion list: (indexes : n-fold)\n",
      " 0 - (1, 2, 5, 6)          : 2-fold\n",
      " 1 - (2, 3, 8, 9)          : 3-fold\n",
      " 2 - (2, 5, 35, 7)         : 3-fold\n",
      " 3 - (5, 35, 7, 15)        : 3-fold\n",
      " 4 - (5, 35, 38, 39)       : 3-fold\n",
      " 5 - (8, 9, 11, 12)        : 3-fold\n",
      " 6 - (9, 11, 13, 36)       : 3-fold\n",
      " 7 - (13, 37, 22, 23)      : 3-fold\n",
      " 8 - (22, 24, 25, 26)      : 3-fold\n",
      " 9 - (23, 22, 24, 25)      : 3-fold\n",
      " 10 - (24, 22, 23, 31)      : 3-fold\n",
      " 11 - (35, 38, 39, 40)      : 3-fold\n",
      "\n",
      "> Rotable bonds ids: 2 3 5 7 8 9 11 13 22 23 24 25 35 37 38 39\n",
      "\n",
      "--> Random dihedral CSearch on test\n",
      "    mode 2 (random) - 12 torsions\n",
      "  Generated 100 conformers, (0.03 % of the total conformational space (CSearch time 5.407 s)\n"
     ]
    }
   ],
   "source": [
    "from tscode.clustered_csearch import csearch\n",
    "RE.structures = csearch(RE.structures[0], RE.atomnos, mode=2)\n",
    "RE.constrained_indexes = np.array([RE.constrained_indexes[0] for _ in RE.structures])"
   ]
  },
  {
   "cell_type": "code",
   "execution_count": 5,
   "metadata": {},
   "outputs": [
    {
     "name": "stdout",
     "output_type": "stream",
     "text": [
      "--> Checking structures for compenetrations\n",
      "All structures passed the compenetration check\n",
      "\n",
      "\n",
      "--> Checkpoint output - Wrote 100 TS structures to TSCoDe_checkpoint_Jun_21_22-28.xyz file before FF optimization.\n",
      "\n",
      "--> Structure optimization (MMFF94 level via OB)\n",
      "Optimizing structure 100/100  |##################################################| 100.0% \n",
      "Force Field MMFF94 optimization took 46.83 s (~0.468 s per structure)\n",
      "Successfully optimized 97/100 candidates at MMFF94 level.\n",
      "Discarded 3 candidates for energy (97 left, threshold 20 kcal/mol)\n",
      "--> Checkpoint output - Updated 97 TS structures to TSCoDe_checkpoint_Jun_21_22-28.xyz file before MOPAC optimization.\n",
      "\n"
     ]
    }
   ],
   "source": [
    "RE.compenetration_refining()\n",
    "RE.force_field_refining()"
   ]
  },
  {
   "cell_type": "code",
   "execution_count": 6,
   "metadata": {},
   "outputs": [],
   "source": [
    "checkpoint = RE.structures, RE.energies, RE.constrained_indexes"
   ]
  },
  {
   "cell_type": "code",
   "execution_count": 7,
   "metadata": {},
   "outputs": [
    {
     "name": "stdout",
     "output_type": "stream",
     "text": [
      "--> Performing conformational augmentation of TS candidates \n",
      "Performing CSearch 97/97  |##################################################| 100.0% \n",
      "Conformational augmentation completed - generated 970 new conformers (1 m 54.984 s)\n",
      "\n"
     ]
    }
   ],
   "source": [
    " \n",
    "RE.csearch_augmentation()"
   ]
  },
  {
   "cell_type": "code",
   "execution_count": 8,
   "metadata": {},
   "outputs": [
    {
     "name": "stdout",
     "output_type": "stream",
     "text": [
      "--> Performing conformational augmentation of TS candidates (parallel on up to 1 cores)\n",
      "Conformational augmentation completed - generated 970 new conformers (1 m 59.53 s)\n",
      "\n",
      "--> Performing conformational augmentation of TS candidates (parallel on up to 2 cores)\n",
      "Conformational augmentation completed - generated 970 new conformers (1 m 8.439 s)\n",
      "\n",
      "--> Performing conformational augmentation of TS candidates (parallel on up to 4 cores)\n",
      "Conformational augmentation completed - generated 970 new conformers (47.418 s)\n",
      "\n",
      "--> Performing conformational augmentation of TS candidates (parallel on up to 8 cores)\n",
      "Conformational augmentation completed - generated 970 new conformers (46.422 s)\n",
      "\n"
     ]
    }
   ],
   "source": [
    "for cores in (1, 2, 4 ,8):\n",
    "    RE.structures, RE.energies, RE.constrained_indexes = checkpoint\n",
    "    RE.csearch_augmentation_parallel(max_ncores=cores)"
   ]
  },
  {
   "cell_type": "code",
   "execution_count": 9,
   "metadata": {},
   "outputs": [],
   "source": [
    "# Simple R_hemiacetals\n",
    "#  1 core = 12 s\n",
    "#  2 core = 11 s\n",
    "#  4 core = 14 s\n",
    "#  8 core = 21 s\n",
    "\n",
    "# P1 confs (100 confs)\n",
    "#  1 core = 120 s\n",
    "#  2 core = 68 s\n",
    "#  4 core = 47 s\n",
    "#  8 core = 46 s\n",
    "\n",
    "# 4 - the physical cores - seems to be best"
   ]
  },
  {
   "cell_type": "code",
   "execution_count": 1,
   "metadata": {},
   "outputs": [
    {
     "name": "stdout",
     "output_type": "stream",
     "text": [
      "\n",
      "             ▁▁▁▁▁▁▁▁▁▁▁▁▁▁▁▁▁▁▁▁▁▁▁▁▁▁▁▁▁▁▁▁▁▁▁\n",
      "            ╱───────────────────────────────────╲\n",
      "           ╱▒░░░░░░░░░░░░░░░░░░░░░░░░░░░░░░░░░░░▒╲\n",
      "       ▒░░░░░░░░░░░░░░░░░░░░░░░░░░░░░░░░░░░░░░░░░░░░▒\n",
      "    ▒░░░░░░░░░░░░░░░░░░░░░░░░░░░░░░░░░░░░░░░░░░░░░░░░░░▒ \n",
      "   ▒░████████╗░██████╗░█████╗░░█████╗░██████╗░███████╗░░░▒\n",
      "   ▒░╚══██╔══╝██╔════╝██╔══██╗██╔══██╗██╔══██╗██╔════╝░░░▒ \n",
      "   ▒░░░░██║░░░╚█████╗░██║░░╚═╝██║░░██║██║░░██║█████╗░░░░░▒  \n",
      "   ▒░░░░██║░░░░╚═══██╗██║░░██╗██║░░██║██║░░██║██╔══╝░░░░░▒   \n",
      "    ▒░░░██║░░░██████╔╝╚█████╔╝╚█████╔╝██████╔╝███████╗░░░▒    \n",
      "   ╱ ▒░░╚═╝░░░╚═════╝░░╚════╝░░╚════╝░╚═════╝░╚══════╝░░▒ ╲\n",
      "  ╱   ▒░░░░░░░░░░░░░░░░░░░░░░░░░░░░░░░░░░░░░░░░░░░░░░░░▒   ╲\n",
      " ╱    ▒░░╔══════════════════════════════════════════╗░░▒    ╲\n",
      " ╲╲    ▒░║  Transition State Conformational Docker  ║░▒    ╱╱   \n",
      "  ╲╲   ▒░║        nicolo.tampellini@yale.edu        ║░▒   ╱╱    \n",
      "   ╲╲  ▒░║                                          ║░▒  ╱╱         \n",
      "    ╲╲ ▒░║     Version    >          0.1.1          ║░▒ ╱╱                                     \n",
      "     ╲╲▒░║      User      >           Nik           ║░▒╱╱                                       \n",
      "      ╲▒░║      Host      >       Nicolò-ASUS       ║░▒╱                                                     \n",
      "       ▒░║      Time      >    Fri Jun 24 12:48     ║░▒                 \n",
      "       ▒░╚══════════════════════════════════════════╝░▒                     \n",
      "        ▒░░░░░░░░░░░░░░░░░░░░░░░░░░░░░░░░░░░░░░░░░░░░▒                             \n",
      "          ╲╲ ▒░░░░░░░░░░░░░░░░░░░░░░░░░░░░░░░░░░▒ ╱╱\n",
      "           ╲╲▁▁▁▁▁▁▁▁▁▁▁▁▁▁▁▁▁▁▁▁▁▁▁▁▁▁▁▁▁▁▁▁▁▁▁▁╱╱                                        \n",
      "           \n",
      "--> Setup performed correctly. 36000000 candidates will be generated.\n",
      "\n"
     ]
    }
   ],
   "source": [
    "from tscode.embeds import string_embed, string_embed_parallel\n",
    "from tscode.embedder import Embedder\n",
    "embedder = Embedder(r'C:\\Users\\Nik\\Desktop\\nt383\\P1\\debug\\fakeembed.txt')"
   ]
  },
  {
   "cell_type": "code",
   "execution_count": 2,
   "metadata": {},
   "outputs": [],
   "source": [
    "coords = embedder.objects[0].atomcoords[0:50]\n",
    "embedder.objects[0].atomcoords = coords\n",
    "embedder.objects[1].atomcoords = coords"
   ]
  },
  {
   "cell_type": "code",
   "execution_count": 3,
   "metadata": {},
   "outputs": [
    {
     "name": "stdout",
     "output_type": "stream",
     "text": [
      "\n",
      "--> Performing string embed (36.0 M candidates)\n",
      "Embedding structures  |##################################################| 100.0% (0 found)\n"
     ]
    },
    {
     "ename": "ZeroCandidatesError",
     "evalue": "\n--> Cyclical embed did not find any suitable disposition of molecules.\n    This is probably because the two molecules cannot find a correct interlocking pose.\n    Try expanding the conformational space with the csearch> operator or see the SHRINK keyword.",
     "output_type": "error",
     "traceback": [
      "\u001b[1;31m---------------------------------------------------------------------------\u001b[0m",
      "\u001b[1;31mZeroCandidatesError\u001b[0m                       Traceback (most recent call last)",
      "\u001b[1;32m~\\AppData\\Local\\Temp/ipykernel_20988/2440197736.py\u001b[0m in \u001b[0;36m<module>\u001b[1;34m\u001b[0m\n\u001b[1;32m----> 1\u001b[1;33m \u001b[0mposes\u001b[0m \u001b[1;33m=\u001b[0m \u001b[0mstring_embed\u001b[0m\u001b[1;33m(\u001b[0m\u001b[0membedder\u001b[0m\u001b[1;33m)\u001b[0m\u001b[1;33m\u001b[0m\u001b[1;33m\u001b[0m\u001b[0m\n\u001b[0m",
      "\u001b[1;32mc:\\users\\nik\\desktop\\coding\\tscode\\tscode\\embeds.py\u001b[0m in \u001b[0;36mstring_embed\u001b[1;34m(embedder)\u001b[0m\n\u001b[0;32m     90\u001b[0m                '    Try expanding the conformational space with the csearch> operator or see the SHRINK keyword.')\n\u001b[0;32m     91\u001b[0m         \u001b[0membedder\u001b[0m\u001b[1;33m.\u001b[0m\u001b[0mlog\u001b[0m\u001b[1;33m(\u001b[0m\u001b[0ms\u001b[0m\u001b[1;33m,\u001b[0m \u001b[0mp\u001b[0m\u001b[1;33m=\u001b[0m\u001b[1;32mFalse\u001b[0m\u001b[1;33m)\u001b[0m\u001b[1;33m\u001b[0m\u001b[1;33m\u001b[0m\u001b[0m\n\u001b[1;32m---> 92\u001b[1;33m         \u001b[1;32mraise\u001b[0m \u001b[0mZeroCandidatesError\u001b[0m\u001b[1;33m(\u001b[0m\u001b[0ms\u001b[0m\u001b[1;33m)\u001b[0m\u001b[1;33m\u001b[0m\u001b[1;33m\u001b[0m\u001b[0m\n\u001b[0m\u001b[0;32m     93\u001b[0m \u001b[1;33m\u001b[0m\u001b[0m\n\u001b[0;32m     94\u001b[0m     \u001b[0membedder\u001b[0m\u001b[1;33m.\u001b[0m\u001b[0mconstrained_indexes\u001b[0m \u001b[1;33m=\u001b[0m \u001b[0m_get_string_constrained_indexes\u001b[0m\u001b[1;33m(\u001b[0m\u001b[0membedder\u001b[0m\u001b[1;33m,\u001b[0m \u001b[0mlen\u001b[0m\u001b[1;33m(\u001b[0m\u001b[0mposes\u001b[0m\u001b[1;33m)\u001b[0m\u001b[1;33m)\u001b[0m\u001b[1;33m\u001b[0m\u001b[1;33m\u001b[0m\u001b[0m\n",
      "\u001b[1;31mZeroCandidatesError\u001b[0m: \n--> Cyclical embed did not find any suitable disposition of molecules.\n    This is probably because the two molecules cannot find a correct interlocking pose.\n    Try expanding the conformational space with the csearch> operator or see the SHRINK keyword."
     ]
    }
   ],
   "source": [
    "poses = string_embed(embedder)"
   ]
  },
  {
   "cell_type": "code",
   "execution_count": 3,
   "metadata": {},
   "outputs": [
    {
     "name": "stdout",
     "output_type": "stream",
     "text": [
      "\n",
      "--> Performing string embed (36.0 M candidates, parallel on up to 4 cores)\n"
     ]
    }
   ],
   "source": [
    "embedder.options.procs = 4\n",
    "poses = string_embed_parallel(embedder)"
   ]
  },
  {
   "cell_type": "code",
   "execution_count": null,
   "metadata": {},
   "outputs": [],
   "source": [
    "# P1 confs embed (50 confs)\n",
    "#  1 core = 28 s\n",
    "#  2 core =  s\n",
    "#  4 core =  s\n",
    "#  8 core =  s"
   ]
  },
  {
   "cell_type": "markdown",
   "metadata": {},
   "source": [
    "### Why do all force field opt with gfn scramble?"
   ]
  },
  {
   "cell_type": "code",
   "execution_count": 1,
   "metadata": {},
   "outputs": [
    {
     "data": {
      "text/plain": [
       "(1000, 147, 3)"
      ]
     },
     "execution_count": 1,
     "metadata": {},
     "output_type": "execute_result"
    }
   ],
   "source": [
    "from tscode.utils import read_xyz, scramble_check, graphize\n",
    "import numpy as np\n",
    "\n",
    "data = read_xyz(r'C:\\Users\\Nik\\Desktop\\nt383\\P1\\debug\\TSCoDe_embedded_P1_lead.xyz')\n",
    "data.atomcoords.shape"
   ]
  },
  {
   "cell_type": "code",
   "execution_count": 2,
   "metadata": {},
   "outputs": [
    {
     "name": "stdout",
     "output_type": "stream",
     "text": [
      "(1, 102, 3)\n"
     ]
    },
    {
     "data": {
      "text/plain": [
       "(2, 45, 3)"
      ]
     },
     "execution_count": 2,
     "metadata": {},
     "output_type": "execute_result"
    }
   ],
   "source": [
    "m1 = read_xyz(r'C:\\Users\\Nik\\Desktop\\nt383\\P1\\debug\\P1.xyz')\n",
    "m2 = read_xyz(r'C:\\Users\\Nik\\Desktop\\nt383\\P1\\debug\\Hemiacetals_Ph.xyz')\n",
    "print(m1.atomcoords.shape)\n",
    "m2.atomcoords.shape"
   ]
  },
  {
   "cell_type": "code",
   "execution_count": 4,
   "metadata": {},
   "outputs": [],
   "source": [
    "\n",
    "ci = np.array([[39, 135]])\n",
    "mg = [graphize(m1.atomcoords[0], m1.atomnos), graphize(m2.atomcoords[0], m2.atomnos)]\n",
    "\n",
    "scramble_results = [scramble_check(s, data.atomnos, constrained_indexes=ci, mols_graphs=mg) for s in data.atomcoords]"
   ]
  },
  {
   "cell_type": "code",
   "execution_count": 5,
   "metadata": {},
   "outputs": [
    {
     "data": {
      "text/plain": [
       "1000"
      ]
     },
     "execution_count": 5,
     "metadata": {},
     "output_type": "execute_result"
    }
   ],
   "source": [
    "np.count_nonzero(scramble_results)"
   ]
  },
  {
   "cell_type": "code",
   "execution_count": 6,
   "metadata": {},
   "outputs": [
    {
     "data": {
      "text/plain": [
       "[True, True, True, True, True, True, True, True, True, True]"
      ]
     },
     "execution_count": 6,
     "metadata": {},
     "output_type": "execute_result"
    }
   ],
   "source": [
    "scramble_results[0:10]"
   ]
  },
  {
   "cell_type": "markdown",
   "metadata": {},
   "source": [
    "## Looking through results"
   ]
  },
  {
   "cell_type": "markdown",
   "metadata": {},
   "source": []
  },
  {
   "cell_type": "code",
   "execution_count": 3,
   "metadata": {},
   "outputs": [
    {
     "data": {
      "text/plain": [
       "(601, 151, 3)"
      ]
     },
     "execution_count": 3,
     "metadata": {},
     "output_type": "execute_result"
    }
   ],
   "source": [
    "from tscode.utils import read_xyz\n",
    "import numpy as np\n",
    "from tscode.algebra import norm_of\n",
    "\n",
    "data = read_xyz(r'C:\\Users\\Nik\\Desktop\\nt383\\P1\\TSCoDe_checkpoint_P1_lead.xyz')\n",
    "data.atomcoords.shape"
   ]
  },
  {
   "cell_type": "code",
   "execution_count": 6,
   "metadata": {},
   "outputs": [
    {
     "data": {
      "text/plain": [
       "0"
      ]
     },
     "execution_count": 6,
     "metadata": {},
     "output_type": "execute_result"
    }
   ],
   "source": [
    "from tscode.clustered_csearch import _get_hydrogen_bonds\n",
    "from tscode.utils import graphize\n",
    "\n",
    "ids = [i for i, c in enumerate(data.atomcoords) if 121 in _get_hydrogen_bonds(c, data.atomnos, graphize(c, data.atomnos))]\n",
    "len(ids)"
   ]
  },
  {
   "cell_type": "code",
   "execution_count": null,
   "metadata": {},
   "outputs": [],
   "source": [
    "from tscode.utils import write_xyz\n",
    "\n",
    "with open('recognized')"
   ]
  },
  {
   "cell_type": "markdown",
   "metadata": {},
   "source": [
    "## New similarity criteria: torsion fingerprints"
   ]
  },
  {
   "cell_type": "code",
   "execution_count": null,
   "metadata": {},
   "outputs": [],
   "source": []
  }
 ],
 "metadata": {
  "interpreter": {
   "hash": "422f1aa206118b9971a857b28e0a49927c5d286f30fdcfc2308e1ad607d060af"
  },
  "kernelspec": {
   "display_name": "Python 3.8.10 ('tscode')",
   "language": "python",
   "name": "python3"
  },
  "language_info": {
   "codemirror_mode": {
    "name": "ipython",
    "version": 3
   },
   "file_extension": ".py",
   "mimetype": "text/x-python",
   "name": "python",
   "nbconvert_exporter": "python",
   "pygments_lexer": "ipython3",
   "version": "3.8.10"
  },
  "orig_nbformat": 4
 },
 "nbformat": 4,
 "nbformat_minor": 2
}
